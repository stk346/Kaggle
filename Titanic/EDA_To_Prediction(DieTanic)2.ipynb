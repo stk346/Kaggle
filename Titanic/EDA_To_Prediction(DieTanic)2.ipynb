{
  "nbformat": 4,
  "nbformat_minor": 0,
  "metadata": {
    "colab": {
      "name": "EDA To Prediction(DieTanic)3.ipynb",
      "provenance": []
    },
    "kernelspec": {
      "name": "python3",
      "display_name": "Python 3"
    },
    "language_info": {
      "name": "python"
    }
  },
  "cells": [
    {
      "cell_type": "code",
      "execution_count": 41,
      "metadata": {
        "colab": {
          "base_uri": "https://localhost:8080/"
        },
        "id": "0XDLIvgTuT1U",
        "outputId": "af6f0a95-273d-47ec-bd45-d3b791bcab2b"
      },
      "outputs": [
        {
          "output_type": "stream",
          "name": "stdout",
          "text": [
            "Drive already mounted at /content/drive/; to attempt to forcibly remount, call drive.mount(\"/content/drive/\", force_remount=True).\n"
          ]
        }
      ],
      "source": [
        "from google.colab import drive\n",
        "drive.mount ('/content/drive/')"
      ]
    },
    {
      "cell_type": "markdown",
      "source": [
        "타이타닉 호의 침몰은 역사상 악명 높은 난파 사고였습니다. 1912년 4월 15일 항해 중간 쯤 타이타닉호는 빙하에 부딪혀 가라앉았고, 이로 인해 2224명 중 1502명의 승객과 선원이 사망했습니다. 이러한 이유로 이름이 DieTanic입니다. 이는 세계적으로 아무도 잊을 수 없는 재앙입니다.  \n",
        "  \n",
        "75억이 들었습니다. 타이타닉호를 짖는데. 그리고 충돌로 인해서 바다 밑으로 가라앉았습니다. 타이타닉 데이터셋은 초보자에게 매우 좋습니다. 데이터 사이언스 여정을 시작하고 캐글 경진대회에 참여하려고 하는 초보자 들에게.  \n",
        "  \n",
        "이 노트북의 목적은 아이디어를 주는 것 입니다. 예측 모델링 문제의 흐름이 어떻게 되는지에 대한. 어떻게 피처를 점검하고, 새로운 피처를 추가하는지 그리고 일부의 기계 학습 개념을. 저는 노트북을 기초적으로 유지하려고 노력해 왔습니다. 초보자들도 매 흐름을 이해할 수 있도록 "
      ],
      "metadata": {
        "id": "9l-s9A3LuxaH"
      }
    },
    {
      "cell_type": "markdown",
      "source": [
        "# Contents of the Notebook:  \n",
        "  \n",
        "## Part1: Exploratory Data Analysis(EDA):\n",
        "1) Analysis of the features.  \n",
        "  \n",
        "2) Finding any relations or trends considering multiple features.\n",
        "  \n",
        "## Part2: Feature Engineering and Data Cleaning:\n",
        "1) Adding any few features.  \n",
        "  \n",
        "2) Removing redundant features.  \n",
        "  \n",
        "3) Converting features into suitable from for modeling.  \n",
        "  \n",
        "## Part3: Predictive Modeling  \n",
        "1) Running basic Algorithms.  \n",
        "  \n",
        "2) Cross Validation.  \n",
        "  \n",
        "3) Ensembling.  \n",
        "  \n",
        "4) Important Features Extraction."
      ],
      "metadata": {
        "id": "qB-ivFelxp7e"
      }
    },
    {
      "cell_type": "markdown",
      "source": [
        "## Part1: Exploratory Data Analysis(EDA)"
      ],
      "metadata": {
        "id": "25Vs9hNRzR53"
      }
    },
    {
      "cell_type": "code",
      "source": [
        "import numpy as np\n",
        "import pandas as pd\n",
        "import matplotlib.pyplot as plt\n",
        "import seaborn as sns\n",
        "plt.style.use('fivethirtyeight')\n",
        "import warnings\n",
        "warnings.filterwarnings('ignore') # 버전이 올라갈 때 변경된 사항을 알려 주는 경고 메세지를 숨긴다.\n",
        "%matplotlib inline"
      ],
      "metadata": {
        "id": "1rAw-GDNz5LV"
      },
      "execution_count": 42,
      "outputs": []
    },
    {
      "cell_type": "code",
      "source": [
        "data = pd.read_csv('/content/drive/MyDrive/Colab Notebooks/kaggle study/Titanic/train.csv')"
      ],
      "metadata": {
        "id": "tKxCDiI20N_D"
      },
      "execution_count": 43,
      "outputs": []
    },
    {
      "cell_type": "code",
      "source": [
        "data.head()"
      ],
      "metadata": {
        "colab": {
          "base_uri": "https://localhost:8080/",
          "height": 548
        },
        "id": "UAhh0ac11UIC",
        "outputId": "35d9610d-6962-4ada-f18e-cae13038ee7c"
      },
      "execution_count": 44,
      "outputs": [
        {
          "output_type": "execute_result",
          "data": {
            "text/html": [
              "\n",
              "  <div id=\"df-cdf258be-545a-4afe-a351-ff21d53b8626\">\n",
              "    <div class=\"colab-df-container\">\n",
              "      <div>\n",
              "<style scoped>\n",
              "    .dataframe tbody tr th:only-of-type {\n",
              "        vertical-align: middle;\n",
              "    }\n",
              "\n",
              "    .dataframe tbody tr th {\n",
              "        vertical-align: top;\n",
              "    }\n",
              "\n",
              "    .dataframe thead th {\n",
              "        text-align: right;\n",
              "    }\n",
              "</style>\n",
              "<table border=\"1\" class=\"dataframe\">\n",
              "  <thead>\n",
              "    <tr style=\"text-align: right;\">\n",
              "      <th></th>\n",
              "      <th>PassengerId</th>\n",
              "      <th>Survived</th>\n",
              "      <th>Pclass</th>\n",
              "      <th>Name</th>\n",
              "      <th>Sex</th>\n",
              "      <th>Age</th>\n",
              "      <th>SibSp</th>\n",
              "      <th>Parch</th>\n",
              "      <th>Ticket</th>\n",
              "      <th>Fare</th>\n",
              "      <th>Cabin</th>\n",
              "      <th>Embarked</th>\n",
              "    </tr>\n",
              "  </thead>\n",
              "  <tbody>\n",
              "    <tr>\n",
              "      <th>0</th>\n",
              "      <td>1</td>\n",
              "      <td>0</td>\n",
              "      <td>3</td>\n",
              "      <td>Braund, Mr. Owen Harris</td>\n",
              "      <td>male</td>\n",
              "      <td>22.0</td>\n",
              "      <td>1</td>\n",
              "      <td>0</td>\n",
              "      <td>A/5 21171</td>\n",
              "      <td>7.2500</td>\n",
              "      <td>NaN</td>\n",
              "      <td>S</td>\n",
              "    </tr>\n",
              "    <tr>\n",
              "      <th>1</th>\n",
              "      <td>2</td>\n",
              "      <td>1</td>\n",
              "      <td>1</td>\n",
              "      <td>Cumings, Mrs. John Bradley (Florence Briggs Th...</td>\n",
              "      <td>female</td>\n",
              "      <td>38.0</td>\n",
              "      <td>1</td>\n",
              "      <td>0</td>\n",
              "      <td>PC 17599</td>\n",
              "      <td>71.2833</td>\n",
              "      <td>C85</td>\n",
              "      <td>C</td>\n",
              "    </tr>\n",
              "    <tr>\n",
              "      <th>2</th>\n",
              "      <td>3</td>\n",
              "      <td>1</td>\n",
              "      <td>3</td>\n",
              "      <td>Heikkinen, Miss. Laina</td>\n",
              "      <td>female</td>\n",
              "      <td>26.0</td>\n",
              "      <td>0</td>\n",
              "      <td>0</td>\n",
              "      <td>STON/O2. 3101282</td>\n",
              "      <td>7.9250</td>\n",
              "      <td>NaN</td>\n",
              "      <td>S</td>\n",
              "    </tr>\n",
              "    <tr>\n",
              "      <th>3</th>\n",
              "      <td>4</td>\n",
              "      <td>1</td>\n",
              "      <td>1</td>\n",
              "      <td>Futrelle, Mrs. Jacques Heath (Lily May Peel)</td>\n",
              "      <td>female</td>\n",
              "      <td>35.0</td>\n",
              "      <td>1</td>\n",
              "      <td>0</td>\n",
              "      <td>113803</td>\n",
              "      <td>53.1000</td>\n",
              "      <td>C123</td>\n",
              "      <td>S</td>\n",
              "    </tr>\n",
              "    <tr>\n",
              "      <th>4</th>\n",
              "      <td>5</td>\n",
              "      <td>0</td>\n",
              "      <td>3</td>\n",
              "      <td>Allen, Mr. William Henry</td>\n",
              "      <td>male</td>\n",
              "      <td>35.0</td>\n",
              "      <td>0</td>\n",
              "      <td>0</td>\n",
              "      <td>373450</td>\n",
              "      <td>8.0500</td>\n",
              "      <td>NaN</td>\n",
              "      <td>S</td>\n",
              "    </tr>\n",
              "  </tbody>\n",
              "</table>\n",
              "</div>\n",
              "      <button class=\"colab-df-convert\" onclick=\"convertToInteractive('df-cdf258be-545a-4afe-a351-ff21d53b8626')\"\n",
              "              title=\"Convert this dataframe to an interactive table.\"\n",
              "              style=\"display:none;\">\n",
              "        \n",
              "  <svg xmlns=\"http://www.w3.org/2000/svg\" height=\"24px\"viewBox=\"0 0 24 24\"\n",
              "       width=\"24px\">\n",
              "    <path d=\"M0 0h24v24H0V0z\" fill=\"none\"/>\n",
              "    <path d=\"M18.56 5.44l.94 2.06.94-2.06 2.06-.94-2.06-.94-.94-2.06-.94 2.06-2.06.94zm-11 1L8.5 8.5l.94-2.06 2.06-.94-2.06-.94L8.5 2.5l-.94 2.06-2.06.94zm10 10l.94 2.06.94-2.06 2.06-.94-2.06-.94-.94-2.06-.94 2.06-2.06.94z\"/><path d=\"M17.41 7.96l-1.37-1.37c-.4-.4-.92-.59-1.43-.59-.52 0-1.04.2-1.43.59L10.3 9.45l-7.72 7.72c-.78.78-.78 2.05 0 2.83L4 21.41c.39.39.9.59 1.41.59.51 0 1.02-.2 1.41-.59l7.78-7.78 2.81-2.81c.8-.78.8-2.07 0-2.86zM5.41 20L4 18.59l7.72-7.72 1.47 1.35L5.41 20z\"/>\n",
              "  </svg>\n",
              "      </button>\n",
              "      \n",
              "  <style>\n",
              "    .colab-df-container {\n",
              "      display:flex;\n",
              "      flex-wrap:wrap;\n",
              "      gap: 12px;\n",
              "    }\n",
              "\n",
              "    .colab-df-convert {\n",
              "      background-color: #E8F0FE;\n",
              "      border: none;\n",
              "      border-radius: 50%;\n",
              "      cursor: pointer;\n",
              "      display: none;\n",
              "      fill: #1967D2;\n",
              "      height: 32px;\n",
              "      padding: 0 0 0 0;\n",
              "      width: 32px;\n",
              "    }\n",
              "\n",
              "    .colab-df-convert:hover {\n",
              "      background-color: #E2EBFA;\n",
              "      box-shadow: 0px 1px 2px rgba(60, 64, 67, 0.3), 0px 1px 3px 1px rgba(60, 64, 67, 0.15);\n",
              "      fill: #174EA6;\n",
              "    }\n",
              "\n",
              "    [theme=dark] .colab-df-convert {\n",
              "      background-color: #3B4455;\n",
              "      fill: #D2E3FC;\n",
              "    }\n",
              "\n",
              "    [theme=dark] .colab-df-convert:hover {\n",
              "      background-color: #434B5C;\n",
              "      box-shadow: 0px 1px 3px 1px rgba(0, 0, 0, 0.15);\n",
              "      filter: drop-shadow(0px 1px 2px rgba(0, 0, 0, 0.3));\n",
              "      fill: #FFFFFF;\n",
              "    }\n",
              "  </style>\n",
              "\n",
              "      <script>\n",
              "        const buttonEl =\n",
              "          document.querySelector('#df-cdf258be-545a-4afe-a351-ff21d53b8626 button.colab-df-convert');\n",
              "        buttonEl.style.display =\n",
              "          google.colab.kernel.accessAllowed ? 'block' : 'none';\n",
              "\n",
              "        async function convertToInteractive(key) {\n",
              "          const element = document.querySelector('#df-cdf258be-545a-4afe-a351-ff21d53b8626');\n",
              "          const dataTable =\n",
              "            await google.colab.kernel.invokeFunction('convertToInteractive',\n",
              "                                                     [key], {});\n",
              "          if (!dataTable) return;\n",
              "\n",
              "          const docLinkHtml = 'Like what you see? Visit the ' +\n",
              "            '<a target=\"_blank\" href=https://colab.research.google.com/notebooks/data_table.ipynb>data table notebook</a>'\n",
              "            + ' to learn more about interactive tables.';\n",
              "          element.innerHTML = '';\n",
              "          dataTable['output_type'] = 'display_data';\n",
              "          await google.colab.output.renderOutput(dataTable, element);\n",
              "          const docLink = document.createElement('div');\n",
              "          docLink.innerHTML = docLinkHtml;\n",
              "          element.appendChild(docLink);\n",
              "        }\n",
              "      </script>\n",
              "    </div>\n",
              "  </div>\n",
              "  "
            ],
            "text/plain": [
              "   PassengerId  Survived  Pclass  ...     Fare Cabin  Embarked\n",
              "0            1         0       3  ...   7.2500   NaN         S\n",
              "1            2         1       1  ...  71.2833   C85         C\n",
              "2            3         1       3  ...   7.9250   NaN         S\n",
              "3            4         1       1  ...  53.1000  C123         S\n",
              "4            5         0       3  ...   8.0500   NaN         S\n",
              "\n",
              "[5 rows x 12 columns]"
            ]
          },
          "metadata": {},
          "execution_count": 44
        }
      ]
    },
    {
      "cell_type": "code",
      "source": [
        "data.isnull()"
      ],
      "metadata": {
        "colab": {
          "base_uri": "https://localhost:8080/",
          "height": 468
        },
        "id": "eCuk3zJN1VGR",
        "outputId": "df2bf866-0543-41a7-9b86-aedc784a1ac9"
      },
      "execution_count": 45,
      "outputs": [
        {
          "output_type": "execute_result",
          "data": {
            "text/html": [
              "\n",
              "  <div id=\"df-b42ec893-5ec0-453f-8463-e4da8fa6550f\">\n",
              "    <div class=\"colab-df-container\">\n",
              "      <div>\n",
              "<style scoped>\n",
              "    .dataframe tbody tr th:only-of-type {\n",
              "        vertical-align: middle;\n",
              "    }\n",
              "\n",
              "    .dataframe tbody tr th {\n",
              "        vertical-align: top;\n",
              "    }\n",
              "\n",
              "    .dataframe thead th {\n",
              "        text-align: right;\n",
              "    }\n",
              "</style>\n",
              "<table border=\"1\" class=\"dataframe\">\n",
              "  <thead>\n",
              "    <tr style=\"text-align: right;\">\n",
              "      <th></th>\n",
              "      <th>PassengerId</th>\n",
              "      <th>Survived</th>\n",
              "      <th>Pclass</th>\n",
              "      <th>Name</th>\n",
              "      <th>Sex</th>\n",
              "      <th>Age</th>\n",
              "      <th>SibSp</th>\n",
              "      <th>Parch</th>\n",
              "      <th>Ticket</th>\n",
              "      <th>Fare</th>\n",
              "      <th>Cabin</th>\n",
              "      <th>Embarked</th>\n",
              "    </tr>\n",
              "  </thead>\n",
              "  <tbody>\n",
              "    <tr>\n",
              "      <th>0</th>\n",
              "      <td>False</td>\n",
              "      <td>False</td>\n",
              "      <td>False</td>\n",
              "      <td>False</td>\n",
              "      <td>False</td>\n",
              "      <td>False</td>\n",
              "      <td>False</td>\n",
              "      <td>False</td>\n",
              "      <td>False</td>\n",
              "      <td>False</td>\n",
              "      <td>True</td>\n",
              "      <td>False</td>\n",
              "    </tr>\n",
              "    <tr>\n",
              "      <th>1</th>\n",
              "      <td>False</td>\n",
              "      <td>False</td>\n",
              "      <td>False</td>\n",
              "      <td>False</td>\n",
              "      <td>False</td>\n",
              "      <td>False</td>\n",
              "      <td>False</td>\n",
              "      <td>False</td>\n",
              "      <td>False</td>\n",
              "      <td>False</td>\n",
              "      <td>False</td>\n",
              "      <td>False</td>\n",
              "    </tr>\n",
              "    <tr>\n",
              "      <th>2</th>\n",
              "      <td>False</td>\n",
              "      <td>False</td>\n",
              "      <td>False</td>\n",
              "      <td>False</td>\n",
              "      <td>False</td>\n",
              "      <td>False</td>\n",
              "      <td>False</td>\n",
              "      <td>False</td>\n",
              "      <td>False</td>\n",
              "      <td>False</td>\n",
              "      <td>True</td>\n",
              "      <td>False</td>\n",
              "    </tr>\n",
              "    <tr>\n",
              "      <th>3</th>\n",
              "      <td>False</td>\n",
              "      <td>False</td>\n",
              "      <td>False</td>\n",
              "      <td>False</td>\n",
              "      <td>False</td>\n",
              "      <td>False</td>\n",
              "      <td>False</td>\n",
              "      <td>False</td>\n",
              "      <td>False</td>\n",
              "      <td>False</td>\n",
              "      <td>False</td>\n",
              "      <td>False</td>\n",
              "    </tr>\n",
              "    <tr>\n",
              "      <th>4</th>\n",
              "      <td>False</td>\n",
              "      <td>False</td>\n",
              "      <td>False</td>\n",
              "      <td>False</td>\n",
              "      <td>False</td>\n",
              "      <td>False</td>\n",
              "      <td>False</td>\n",
              "      <td>False</td>\n",
              "      <td>False</td>\n",
              "      <td>False</td>\n",
              "      <td>True</td>\n",
              "      <td>False</td>\n",
              "    </tr>\n",
              "    <tr>\n",
              "      <th>...</th>\n",
              "      <td>...</td>\n",
              "      <td>...</td>\n",
              "      <td>...</td>\n",
              "      <td>...</td>\n",
              "      <td>...</td>\n",
              "      <td>...</td>\n",
              "      <td>...</td>\n",
              "      <td>...</td>\n",
              "      <td>...</td>\n",
              "      <td>...</td>\n",
              "      <td>...</td>\n",
              "      <td>...</td>\n",
              "    </tr>\n",
              "    <tr>\n",
              "      <th>886</th>\n",
              "      <td>False</td>\n",
              "      <td>False</td>\n",
              "      <td>False</td>\n",
              "      <td>False</td>\n",
              "      <td>False</td>\n",
              "      <td>False</td>\n",
              "      <td>False</td>\n",
              "      <td>False</td>\n",
              "      <td>False</td>\n",
              "      <td>False</td>\n",
              "      <td>True</td>\n",
              "      <td>False</td>\n",
              "    </tr>\n",
              "    <tr>\n",
              "      <th>887</th>\n",
              "      <td>False</td>\n",
              "      <td>False</td>\n",
              "      <td>False</td>\n",
              "      <td>False</td>\n",
              "      <td>False</td>\n",
              "      <td>False</td>\n",
              "      <td>False</td>\n",
              "      <td>False</td>\n",
              "      <td>False</td>\n",
              "      <td>False</td>\n",
              "      <td>False</td>\n",
              "      <td>False</td>\n",
              "    </tr>\n",
              "    <tr>\n",
              "      <th>888</th>\n",
              "      <td>False</td>\n",
              "      <td>False</td>\n",
              "      <td>False</td>\n",
              "      <td>False</td>\n",
              "      <td>False</td>\n",
              "      <td>True</td>\n",
              "      <td>False</td>\n",
              "      <td>False</td>\n",
              "      <td>False</td>\n",
              "      <td>False</td>\n",
              "      <td>True</td>\n",
              "      <td>False</td>\n",
              "    </tr>\n",
              "    <tr>\n",
              "      <th>889</th>\n",
              "      <td>False</td>\n",
              "      <td>False</td>\n",
              "      <td>False</td>\n",
              "      <td>False</td>\n",
              "      <td>False</td>\n",
              "      <td>False</td>\n",
              "      <td>False</td>\n",
              "      <td>False</td>\n",
              "      <td>False</td>\n",
              "      <td>False</td>\n",
              "      <td>False</td>\n",
              "      <td>False</td>\n",
              "    </tr>\n",
              "    <tr>\n",
              "      <th>890</th>\n",
              "      <td>False</td>\n",
              "      <td>False</td>\n",
              "      <td>False</td>\n",
              "      <td>False</td>\n",
              "      <td>False</td>\n",
              "      <td>False</td>\n",
              "      <td>False</td>\n",
              "      <td>False</td>\n",
              "      <td>False</td>\n",
              "      <td>False</td>\n",
              "      <td>True</td>\n",
              "      <td>False</td>\n",
              "    </tr>\n",
              "  </tbody>\n",
              "</table>\n",
              "<p>891 rows × 12 columns</p>\n",
              "</div>\n",
              "      <button class=\"colab-df-convert\" onclick=\"convertToInteractive('df-b42ec893-5ec0-453f-8463-e4da8fa6550f')\"\n",
              "              title=\"Convert this dataframe to an interactive table.\"\n",
              "              style=\"display:none;\">\n",
              "        \n",
              "  <svg xmlns=\"http://www.w3.org/2000/svg\" height=\"24px\"viewBox=\"0 0 24 24\"\n",
              "       width=\"24px\">\n",
              "    <path d=\"M0 0h24v24H0V0z\" fill=\"none\"/>\n",
              "    <path d=\"M18.56 5.44l.94 2.06.94-2.06 2.06-.94-2.06-.94-.94-2.06-.94 2.06-2.06.94zm-11 1L8.5 8.5l.94-2.06 2.06-.94-2.06-.94L8.5 2.5l-.94 2.06-2.06.94zm10 10l.94 2.06.94-2.06 2.06-.94-2.06-.94-.94-2.06-.94 2.06-2.06.94z\"/><path d=\"M17.41 7.96l-1.37-1.37c-.4-.4-.92-.59-1.43-.59-.52 0-1.04.2-1.43.59L10.3 9.45l-7.72 7.72c-.78.78-.78 2.05 0 2.83L4 21.41c.39.39.9.59 1.41.59.51 0 1.02-.2 1.41-.59l7.78-7.78 2.81-2.81c.8-.78.8-2.07 0-2.86zM5.41 20L4 18.59l7.72-7.72 1.47 1.35L5.41 20z\"/>\n",
              "  </svg>\n",
              "      </button>\n",
              "      \n",
              "  <style>\n",
              "    .colab-df-container {\n",
              "      display:flex;\n",
              "      flex-wrap:wrap;\n",
              "      gap: 12px;\n",
              "    }\n",
              "\n",
              "    .colab-df-convert {\n",
              "      background-color: #E8F0FE;\n",
              "      border: none;\n",
              "      border-radius: 50%;\n",
              "      cursor: pointer;\n",
              "      display: none;\n",
              "      fill: #1967D2;\n",
              "      height: 32px;\n",
              "      padding: 0 0 0 0;\n",
              "      width: 32px;\n",
              "    }\n",
              "\n",
              "    .colab-df-convert:hover {\n",
              "      background-color: #E2EBFA;\n",
              "      box-shadow: 0px 1px 2px rgba(60, 64, 67, 0.3), 0px 1px 3px 1px rgba(60, 64, 67, 0.15);\n",
              "      fill: #174EA6;\n",
              "    }\n",
              "\n",
              "    [theme=dark] .colab-df-convert {\n",
              "      background-color: #3B4455;\n",
              "      fill: #D2E3FC;\n",
              "    }\n",
              "\n",
              "    [theme=dark] .colab-df-convert:hover {\n",
              "      background-color: #434B5C;\n",
              "      box-shadow: 0px 1px 3px 1px rgba(0, 0, 0, 0.15);\n",
              "      filter: drop-shadow(0px 1px 2px rgba(0, 0, 0, 0.3));\n",
              "      fill: #FFFFFF;\n",
              "    }\n",
              "  </style>\n",
              "\n",
              "      <script>\n",
              "        const buttonEl =\n",
              "          document.querySelector('#df-b42ec893-5ec0-453f-8463-e4da8fa6550f button.colab-df-convert');\n",
              "        buttonEl.style.display =\n",
              "          google.colab.kernel.accessAllowed ? 'block' : 'none';\n",
              "\n",
              "        async function convertToInteractive(key) {\n",
              "          const element = document.querySelector('#df-b42ec893-5ec0-453f-8463-e4da8fa6550f');\n",
              "          const dataTable =\n",
              "            await google.colab.kernel.invokeFunction('convertToInteractive',\n",
              "                                                     [key], {});\n",
              "          if (!dataTable) return;\n",
              "\n",
              "          const docLinkHtml = 'Like what you see? Visit the ' +\n",
              "            '<a target=\"_blank\" href=https://colab.research.google.com/notebooks/data_table.ipynb>data table notebook</a>'\n",
              "            + ' to learn more about interactive tables.';\n",
              "          element.innerHTML = '';\n",
              "          dataTable['output_type'] = 'display_data';\n",
              "          await google.colab.output.renderOutput(dataTable, element);\n",
              "          const docLink = document.createElement('div');\n",
              "          docLink.innerHTML = docLinkHtml;\n",
              "          element.appendChild(docLink);\n",
              "        }\n",
              "      </script>\n",
              "    </div>\n",
              "  </div>\n",
              "  "
            ],
            "text/plain": [
              "     PassengerId  Survived  Pclass   Name  ...  Ticket   Fare  Cabin  Embarked\n",
              "0          False     False   False  False  ...   False  False   True     False\n",
              "1          False     False   False  False  ...   False  False  False     False\n",
              "2          False     False   False  False  ...   False  False   True     False\n",
              "3          False     False   False  False  ...   False  False  False     False\n",
              "4          False     False   False  False  ...   False  False   True     False\n",
              "..           ...       ...     ...    ...  ...     ...    ...    ...       ...\n",
              "886        False     False   False  False  ...   False  False   True     False\n",
              "887        False     False   False  False  ...   False  False  False     False\n",
              "888        False     False   False  False  ...   False  False   True     False\n",
              "889        False     False   False  False  ...   False  False  False     False\n",
              "890        False     False   False  False  ...   False  False   True     False\n",
              "\n",
              "[891 rows x 12 columns]"
            ]
          },
          "metadata": {},
          "execution_count": 45
        }
      ]
    },
    {
      "cell_type": "code",
      "source": [
        "data.isnull().sum() # 총 null values를 검사"
      ],
      "metadata": {
        "colab": {
          "base_uri": "https://localhost:8080/"
        },
        "id": "ErggLDEG1fZg",
        "outputId": "b66419ef-1708-4854-8c80-6793be4287ba"
      },
      "execution_count": 46,
      "outputs": [
        {
          "output_type": "execute_result",
          "data": {
            "text/plain": [
              "PassengerId      0\n",
              "Survived         0\n",
              "Pclass           0\n",
              "Name             0\n",
              "Sex              0\n",
              "Age            177\n",
              "SibSp            0\n",
              "Parch            0\n",
              "Ticket           0\n",
              "Fare             0\n",
              "Cabin          687\n",
              "Embarked         2\n",
              "dtype: int64"
            ]
          },
          "metadata": {},
          "execution_count": 46
        }
      ]
    },
    {
      "cell_type": "markdown",
      "source": [
        "Age, Cabin 그리고 Embarked 는 null values가 있습니다. 이들을 바로 잡겠습니다."
      ],
      "metadata": {
        "id": "KsublHHU1nmz"
      }
    },
    {
      "cell_type": "markdown",
      "source": [
        "얼마나 살아 남았는지 체크"
      ],
      "metadata": {
        "id": "z3Rl5xhe1xUz"
      }
    },
    {
      "cell_type": "code",
      "source": [
        "data['Survived'].value_counts()"
      ],
      "metadata": {
        "colab": {
          "base_uri": "https://localhost:8080/"
        },
        "id": "GfDMs9vL2FRB",
        "outputId": "7f106d72-cbe7-4a79-f6e1-da74b470d364"
      },
      "execution_count": 47,
      "outputs": [
        {
          "output_type": "execute_result",
          "data": {
            "text/plain": [
              "0    549\n",
              "1    342\n",
              "Name: Survived, dtype: int64"
            ]
          },
          "metadata": {},
          "execution_count": 47
        }
      ]
    },
    {
      "cell_type": "code",
      "source": [
        "f, ax = plt.subplots(1, 2, figsize=(18, 8))\n",
        "data['Survived'].value_counts().plot.pie(explode=[0,0.1], autopct='%1.1f%%', ax=ax[0], shadow=True)\n",
        "ax[0].set_title('Survived')\n",
        "ax[0].set_ylabel(' ')\n",
        "sns.countplot('Survived', data=data, ax=ax[1])\n",
        "ax[1].set_title('Survived')\n",
        "plt.show()"
      ],
      "metadata": {
        "colab": {
          "base_uri": "https://localhost:8080/",
          "height": 387
        },
        "id": "yZcZ393g12m5",
        "outputId": "f0a70dfc-0363-4260-b722-dfd08337c3af"
      },
      "execution_count": 48,
      "outputs": [
        {
          "output_type": "display_data",
          "data": {
            "image/png": "[encoded data removed]",
            "text/plain": [
              "<Figure size 1296x576 with 2 Axes>"
            ]
          },
          "metadata": {
            "needs_background": "light"
          }
        }
      ]
    },
    {
      "cell_type": "markdown",
      "source": [
        "해당 사고에서 많지 않은 승객이 살아 남았다는 것은 명백합니다.  \n",
        "트레이닝 셋에서 891 명의 승객 중 오직 250명 정도 많이 살아남았습니다. 이는 전체 트레이닝 셋의 충돌 사고에서 38.4%에 해당합니다. 우리는 데이터에서 더 나은 인사이트를 얻기 위해 더 파보아야 합니다. 그리고 봐야 합니다. 승객들이 살아 남았거나 그렇지 못한 카테고리를.  \n",
        "  \n",
        "우리는 생존률을 확인할 것입니다. 데이터셋의 다른 피처들을 활용해서. 이 피처들은 성별, 탑승 항구, 나이 등이 있습니다.  \n",
        "  \n",
        "먼저 피처들의 타입들에 대해서 이해해 보겠습니다."
      ],
      "metadata": {
        "id": "DhVHIaSF2eHb"
      }
    },
    {
      "cell_type": "markdown",
      "source": [
        "### Types Of Features\n",
        "**Categorical Feature:**  \n",
        "범주형 변수는 두개나 이 이상의 범주를 갖습니다. 또한 여기에 속한 각각의 값은 분류될 수 있습니다. 예를 들어 성별은 두 카테고리를 갖는 범주형 변수입니다. (남자, 여자) 우리는 이러한 변수에 대해 순서를 부여할 수 없습니다. 이들은 또한 명목 변수로 알려져 있기도 합니다.  \n",
        "  \n",
        "**Categorical Features in the dataset: Sex, Embarked**"
      ],
      "metadata": {
        "id": "VFivR-Mv4Ipm"
      }
    },
    {
      "cell_type": "markdown",
      "source": [
        "**Ordinal Features:**  \n",
        "순서형 변수들은 범주형 변수와 비슷하지만 다른 점은 상대적인 순서를 부여하거나 값들을 정렬할 수 있다는 것입니다. 예를 들어 키와 같은 피처에 대해 큰, 중간, 작은 등이 있으며 키는 순서형 변수입니다. 우리는 상대적인 값들을 정렬할 수 있습니다.  \n",
        "**Ordinal Features in the dataset: PClass**"
      ],
      "metadata": {
        "id": "mYCmdCmW5FcD"
      }
    },
    {
      "cell_type": "markdown",
      "source": [
        "**Continous Feature:**  \n",
        "피처가 연속적이라고 한다면 값을 취할 수 있습니다. 어느 두 지점 혹은 최소, 최대 값을 피처 열에 대해서.  \n",
        "**Continous Features in the dataset: Age**"
      ],
      "metadata": {
        "id": "fSQ71eMu525P"
      }
    },
    {
      "cell_type": "markdown",
      "source": [
        "### Analysing The Features\n",
        "### Sex -> Categorical Feature"
      ],
      "metadata": {
        "id": "4I61O5UT6b9f"
      }
    },
    {
      "cell_type": "code",
      "source": [
        "data.head(1)"
      ],
      "metadata": {
        "colab": {
          "base_uri": "https://localhost:8080/",
          "height": 159
        },
        "id": "TqwqmM4t6rTq",
        "outputId": "d3628355-4c81-4d89-d859-95c0332e009b"
      },
      "execution_count": 49,
      "outputs": [
        {
          "output_type": "execute_result",
          "data": {
            "text/html": [
              "\n",
              "  <div id=\"df-38b458e3-c8fc-467e-8af8-1e370c96b2c6\">\n",
              "    <div class=\"colab-df-container\">\n",
              "      <div>\n",
              "<style scoped>\n",
              "    .dataframe tbody tr th:only-of-type {\n",
              "        vertical-align: middle;\n",
              "    }\n",
              "\n",
              "    .dataframe tbody tr th {\n",
              "        vertical-align: top;\n",
              "    }\n",
              "\n",
              "    .dataframe thead th {\n",
              "        text-align: right;\n",
              "    }\n",
              "</style>\n",
              "<table border=\"1\" class=\"dataframe\">\n",
              "  <thead>\n",
              "    <tr style=\"text-align: right;\">\n",
              "      <th></th>\n",
              "      <th>PassengerId</th>\n",
              "      <th>Survived</th>\n",
              "      <th>Pclass</th>\n",
              "      <th>Name</th>\n",
              "      <th>Sex</th>\n",
              "      <th>Age</th>\n",
              "      <th>SibSp</th>\n",
              "      <th>Parch</th>\n",
              "      <th>Ticket</th>\n",
              "      <th>Fare</th>\n",
              "      <th>Cabin</th>\n",
              "      <th>Embarked</th>\n",
              "    </tr>\n",
              "  </thead>\n",
              "  <tbody>\n",
              "    <tr>\n",
              "      <th>0</th>\n",
              "      <td>1</td>\n",
              "      <td>0</td>\n",
              "      <td>3</td>\n",
              "      <td>Braund, Mr. Owen Harris</td>\n",
              "      <td>male</td>\n",
              "      <td>22.0</td>\n",
              "      <td>1</td>\n",
              "      <td>0</td>\n",
              "      <td>A/5 21171</td>\n",
              "      <td>7.25</td>\n",
              "      <td>NaN</td>\n",
              "      <td>S</td>\n",
              "    </tr>\n",
              "  </tbody>\n",
              "</table>\n",
              "</div>\n",
              "      <button class=\"colab-df-convert\" onclick=\"convertToInteractive('df-38b458e3-c8fc-467e-8af8-1e370c96b2c6')\"\n",
              "              title=\"Convert this dataframe to an interactive table.\"\n",
              "              style=\"display:none;\">\n",
              "        \n",
              "  <svg xmlns=\"http://www.w3.org/2000/svg\" height=\"24px\"viewBox=\"0 0 24 24\"\n",
              "       width=\"24px\">\n",
              "    <path d=\"M0 0h24v24H0V0z\" fill=\"none\"/>\n",
              "    <path d=\"M18.56 5.44l.94 2.06.94-2.06 2.06-.94-2.06-.94-.94-2.06-.94 2.06-2.06.94zm-11 1L8.5 8.5l.94-2.06 2.06-.94-2.06-.94L8.5 2.5l-.94 2.06-2.06.94zm10 10l.94 2.06.94-2.06 2.06-.94-2.06-.94-.94-2.06-.94 2.06-2.06.94z\"/><path d=\"M17.41 7.96l-1.37-1.37c-.4-.4-.92-.59-1.43-.59-.52 0-1.04.2-1.43.59L10.3 9.45l-7.72 7.72c-.78.78-.78 2.05 0 2.83L4 21.41c.39.39.9.59 1.41.59.51 0 1.02-.2 1.41-.59l7.78-7.78 2.81-2.81c.8-.78.8-2.07 0-2.86zM5.41 20L4 18.59l7.72-7.72 1.47 1.35L5.41 20z\"/>\n",
              "  </svg>\n",
              "      </button>\n",
              "      \n",
              "  <style>\n",
              "    .colab-df-container {\n",
              "      display:flex;\n",
              "      flex-wrap:wrap;\n",
              "      gap: 12px;\n",
              "    }\n",
              "\n",
              "    .colab-df-convert {\n",
              "      background-color: #E8F0FE;\n",
              "      border: none;\n",
              "      border-radius: 50%;\n",
              "      cursor: pointer;\n",
              "      display: none;\n",
              "      fill: #1967D2;\n",
              "      height: 32px;\n",
              "      padding: 0 0 0 0;\n",
              "      width: 32px;\n",
              "    }\n",
              "\n",
              "    .colab-df-convert:hover {\n",
              "      background-color: #E2EBFA;\n",
              "      box-shadow: 0px 1px 2px rgba(60, 64, 67, 0.3), 0px 1px 3px 1px rgba(60, 64, 67, 0.15);\n",
              "      fill: #174EA6;\n",
              "    }\n",
              "\n",
              "    [theme=dark] .colab-df-convert {\n",
              "      background-color: #3B4455;\n",
              "      fill: #D2E3FC;\n",
              "    }\n",
              "\n",
              "    [theme=dark] .colab-df-convert:hover {\n",
              "      background-color: #434B5C;\n",
              "      box-shadow: 0px 1px 3px 1px rgba(0, 0, 0, 0.15);\n",
              "      filter: drop-shadow(0px 1px 2px rgba(0, 0, 0, 0.3));\n",
              "      fill: #FFFFFF;\n",
              "    }\n",
              "  </style>\n",
              "\n",
              "      <script>\n",
              "        const buttonEl =\n",
              "          document.querySelector('#df-38b458e3-c8fc-467e-8af8-1e370c96b2c6 button.colab-df-convert');\n",
              "        buttonEl.style.display =\n",
              "          google.colab.kernel.accessAllowed ? 'block' : 'none';\n",
              "\n",
              "        async function convertToInteractive(key) {\n",
              "          const element = document.querySelector('#df-38b458e3-c8fc-467e-8af8-1e370c96b2c6');\n",
              "          const dataTable =\n",
              "            await google.colab.kernel.invokeFunction('convertToInteractive',\n",
              "                                                     [key], {});\n",
              "          if (!dataTable) return;\n",
              "\n",
              "          const docLinkHtml = 'Like what you see? Visit the ' +\n",
              "            '<a target=\"_blank\" href=https://colab.research.google.com/notebooks/data_table.ipynb>data table notebook</a>'\n",
              "            + ' to learn more about interactive tables.';\n",
              "          element.innerHTML = '';\n",
              "          dataTable['output_type'] = 'display_data';\n",
              "          await google.colab.output.renderOutput(dataTable, element);\n",
              "          const docLink = document.createElement('div');\n",
              "          docLink.innerHTML = docLinkHtml;\n",
              "          element.appendChild(docLink);\n",
              "        }\n",
              "      </script>\n",
              "    </div>\n",
              "  </div>\n",
              "  "
            ],
            "text/plain": [
              "   PassengerId  Survived  Pclass  ...  Fare Cabin  Embarked\n",
              "0            1         0       3  ...  7.25   NaN         S\n",
              "\n",
              "[1 rows x 12 columns]"
            ]
          },
          "metadata": {},
          "execution_count": 49
        }
      ]
    },
    {
      "cell_type": "code",
      "source": [
        "# Sex를 인덱스로 해서 Survived로 dataframe을 집게한다.\n",
        "data.groupby(['Sex', 'Survived']).count()"
      ],
      "metadata": {
        "colab": {
          "base_uri": "https://localhost:8080/",
          "height": 250
        },
        "id": "JJoMkYiB6wty",
        "outputId": "2b3bab29-bb2f-4a5e-f0ba-563e5fb2c096"
      },
      "execution_count": 50,
      "outputs": [
        {
          "output_type": "execute_result",
          "data": {
            "text/html": [
              "\n",
              "  <div id=\"df-386e1fc7-ecc5-45f2-a4ae-0498d62dc6c7\">\n",
              "    <div class=\"colab-df-container\">\n",
              "      <div>\n",
              "<style scoped>\n",
              "    .dataframe tbody tr th:only-of-type {\n",
              "        vertical-align: middle;\n",
              "    }\n",
              "\n",
              "    .dataframe tbody tr th {\n",
              "        vertical-align: top;\n",
              "    }\n",
              "\n",
              "    .dataframe thead th {\n",
              "        text-align: right;\n",
              "    }\n",
              "</style>\n",
              "<table border=\"1\" class=\"dataframe\">\n",
              "  <thead>\n",
              "    <tr style=\"text-align: right;\">\n",
              "      <th></th>\n",
              "      <th></th>\n",
              "      <th>PassengerId</th>\n",
              "      <th>Pclass</th>\n",
              "      <th>Name</th>\n",
              "      <th>Age</th>\n",
              "      <th>SibSp</th>\n",
              "      <th>Parch</th>\n",
              "      <th>Ticket</th>\n",
              "      <th>Fare</th>\n",
              "      <th>Cabin</th>\n",
              "      <th>Embarked</th>\n",
              "    </tr>\n",
              "    <tr>\n",
              "      <th>Sex</th>\n",
              "      <th>Survived</th>\n",
              "      <th></th>\n",
              "      <th></th>\n",
              "      <th></th>\n",
              "      <th></th>\n",
              "      <th></th>\n",
              "      <th></th>\n",
              "      <th></th>\n",
              "      <th></th>\n",
              "      <th></th>\n",
              "      <th></th>\n",
              "    </tr>\n",
              "  </thead>\n",
              "  <tbody>\n",
              "    <tr>\n",
              "      <th rowspan=\"2\" valign=\"top\">female</th>\n",
              "      <th>0</th>\n",
              "      <td>81</td>\n",
              "      <td>81</td>\n",
              "      <td>81</td>\n",
              "      <td>64</td>\n",
              "      <td>81</td>\n",
              "      <td>81</td>\n",
              "      <td>81</td>\n",
              "      <td>81</td>\n",
              "      <td>6</td>\n",
              "      <td>81</td>\n",
              "    </tr>\n",
              "    <tr>\n",
              "      <th>1</th>\n",
              "      <td>233</td>\n",
              "      <td>233</td>\n",
              "      <td>233</td>\n",
              "      <td>197</td>\n",
              "      <td>233</td>\n",
              "      <td>233</td>\n",
              "      <td>233</td>\n",
              "      <td>233</td>\n",
              "      <td>91</td>\n",
              "      <td>231</td>\n",
              "    </tr>\n",
              "    <tr>\n",
              "      <th rowspan=\"2\" valign=\"top\">male</th>\n",
              "      <th>0</th>\n",
              "      <td>468</td>\n",
              "      <td>468</td>\n",
              "      <td>468</td>\n",
              "      <td>360</td>\n",
              "      <td>468</td>\n",
              "      <td>468</td>\n",
              "      <td>468</td>\n",
              "      <td>468</td>\n",
              "      <td>62</td>\n",
              "      <td>468</td>\n",
              "    </tr>\n",
              "    <tr>\n",
              "      <th>1</th>\n",
              "      <td>109</td>\n",
              "      <td>109</td>\n",
              "      <td>109</td>\n",
              "      <td>93</td>\n",
              "      <td>109</td>\n",
              "      <td>109</td>\n",
              "      <td>109</td>\n",
              "      <td>109</td>\n",
              "      <td>45</td>\n",
              "      <td>109</td>\n",
              "    </tr>\n",
              "  </tbody>\n",
              "</table>\n",
              "</div>\n",
              "      <button class=\"colab-df-convert\" onclick=\"convertToInteractive('df-386e1fc7-ecc5-45f2-a4ae-0498d62dc6c7')\"\n",
              "              title=\"Convert this dataframe to an interactive table.\"\n",
              "              style=\"display:none;\">\n",
              "        \n",
              "  <svg xmlns=\"http://www.w3.org/2000/svg\" height=\"24px\"viewBox=\"0 0 24 24\"\n",
              "       width=\"24px\">\n",
              "    <path d=\"M0 0h24v24H0V0z\" fill=\"none\"/>\n",
              "    <path d=\"M18.56 5.44l.94 2.06.94-2.06 2.06-.94-2.06-.94-.94-2.06-.94 2.06-2.06.94zm-11 1L8.5 8.5l.94-2.06 2.06-.94-2.06-.94L8.5 2.5l-.94 2.06-2.06.94zm10 10l.94 2.06.94-2.06 2.06-.94-2.06-.94-.94-2.06-.94 2.06-2.06.94z\"/><path d=\"M17.41 7.96l-1.37-1.37c-.4-.4-.92-.59-1.43-.59-.52 0-1.04.2-1.43.59L10.3 9.45l-7.72 7.72c-.78.78-.78 2.05 0 2.83L4 21.41c.39.39.9.59 1.41.59.51 0 1.02-.2 1.41-.59l7.78-7.78 2.81-2.81c.8-.78.8-2.07 0-2.86zM5.41 20L4 18.59l7.72-7.72 1.47 1.35L5.41 20z\"/>\n",
              "  </svg>\n",
              "      </button>\n",
              "      \n",
              "  <style>\n",
              "    .colab-df-container {\n",
              "      display:flex;\n",
              "      flex-wrap:wrap;\n",
              "      gap: 12px;\n",
              "    }\n",
              "\n",
              "    .colab-df-convert {\n",
              "      background-color: #E8F0FE;\n",
              "      border: none;\n",
              "      border-radius: 50%;\n",
              "      cursor: pointer;\n",
              "      display: none;\n",
              "      fill: #1967D2;\n",
              "      height: 32px;\n",
              "      padding: 0 0 0 0;\n",
              "      width: 32px;\n",
              "    }\n",
              "\n",
              "    .colab-df-convert:hover {\n",
              "      background-color: #E2EBFA;\n",
              "      box-shadow: 0px 1px 2px rgba(60, 64, 67, 0.3), 0px 1px 3px 1px rgba(60, 64, 67, 0.15);\n",
              "      fill: #174EA6;\n",
              "    }\n",
              "\n",
              "    [theme=dark] .colab-df-convert {\n",
              "      background-color: #3B4455;\n",
              "      fill: #D2E3FC;\n",
              "    }\n",
              "\n",
              "    [theme=dark] .colab-df-convert:hover {\n",
              "      background-color: #434B5C;\n",
              "      box-shadow: 0px 1px 3px 1px rgba(0, 0, 0, 0.15);\n",
              "      filter: drop-shadow(0px 1px 2px rgba(0, 0, 0, 0.3));\n",
              "      fill: #FFFFFF;\n",
              "    }\n",
              "  </style>\n",
              "\n",
              "      <script>\n",
              "        const buttonEl =\n",
              "          document.querySelector('#df-386e1fc7-ecc5-45f2-a4ae-0498d62dc6c7 button.colab-df-convert');\n",
              "        buttonEl.style.display =\n",
              "          google.colab.kernel.accessAllowed ? 'block' : 'none';\n",
              "\n",
              "        async function convertToInteractive(key) {\n",
              "          const element = document.querySelector('#df-386e1fc7-ecc5-45f2-a4ae-0498d62dc6c7');\n",
              "          const dataTable =\n",
              "            await google.colab.kernel.invokeFunction('convertToInteractive',\n",
              "                                                     [key], {});\n",
              "          if (!dataTable) return;\n",
              "\n",
              "          const docLinkHtml = 'Like what you see? Visit the ' +\n",
              "            '<a target=\"_blank\" href=https://colab.research.google.com/notebooks/data_table.ipynb>data table notebook</a>'\n",
              "            + ' to learn more about interactive tables.';\n",
              "          element.innerHTML = '';\n",
              "          dataTable['output_type'] = 'display_data';\n",
              "          await google.colab.output.renderOutput(dataTable, element);\n",
              "          const docLink = document.createElement('div');\n",
              "          docLink.innerHTML = docLinkHtml;\n",
              "          element.appendChild(docLink);\n",
              "        }\n",
              "      </script>\n",
              "    </div>\n",
              "  </div>\n",
              "  "
            ],
            "text/plain": [
              "                 PassengerId  Pclass  Name  Age  ...  Ticket  Fare  Cabin  Embarked\n",
              "Sex    Survived                                  ...                               \n",
              "female 0                  81      81    81   64  ...      81    81      6        81\n",
              "       1                 233     233   233  197  ...     233   233     91       231\n",
              "male   0                 468     468   468  360  ...     468   468     62       468\n",
              "       1                 109     109   109   93  ...     109   109     45       109\n",
              "\n",
              "[4 rows x 10 columns]"
            ]
          },
          "metadata": {},
          "execution_count": 50
        }
      ]
    },
    {
      "cell_type": "code",
      "source": [
        "data.groupby(['Sex', 'Survived'])['Survived'].count()"
      ],
      "metadata": {
        "colab": {
          "base_uri": "https://localhost:8080/"
        },
        "id": "TUA-H1Kv6kNE",
        "outputId": "234def82-4f22-4ced-fede-f406947c00da"
      },
      "execution_count": 51,
      "outputs": [
        {
          "output_type": "execute_result",
          "data": {
            "text/plain": [
              "Sex     Survived\n",
              "female  0            81\n",
              "        1           233\n",
              "male    0           468\n",
              "        1           109\n",
              "Name: Survived, dtype: int64"
            ]
          },
          "metadata": {},
          "execution_count": 51
        }
      ]
    },
    {
      "cell_type": "code",
      "source": [
        "data[['Sex', 'Survived']].groupby(['Sex']).mean()"
      ],
      "metadata": {
        "colab": {
          "base_uri": "https://localhost:8080/",
          "height": 143
        },
        "id": "M_yS1FOK7_c9",
        "outputId": "8f3233b2-ea0e-422f-b7f4-064e29501156"
      },
      "execution_count": 52,
      "outputs": [
        {
          "output_type": "execute_result",
          "data": {
            "text/html": [
              "\n",
              "  <div id=\"df-f23d8df8-866c-4171-b6f5-d6072a39b73c\">\n",
              "    <div class=\"colab-df-container\">\n",
              "      <div>\n",
              "<style scoped>\n",
              "    .dataframe tbody tr th:only-of-type {\n",
              "        vertical-align: middle;\n",
              "    }\n",
              "\n",
              "    .dataframe tbody tr th {\n",
              "        vertical-align: top;\n",
              "    }\n",
              "\n",
              "    .dataframe thead th {\n",
              "        text-align: right;\n",
              "    }\n",
              "</style>\n",
              "<table border=\"1\" class=\"dataframe\">\n",
              "  <thead>\n",
              "    <tr style=\"text-align: right;\">\n",
              "      <th></th>\n",
              "      <th>Survived</th>\n",
              "    </tr>\n",
              "    <tr>\n",
              "      <th>Sex</th>\n",
              "      <th></th>\n",
              "    </tr>\n",
              "  </thead>\n",
              "  <tbody>\n",
              "    <tr>\n",
              "      <th>female</th>\n",
              "      <td>0.742038</td>\n",
              "    </tr>\n",
              "    <tr>\n",
              "      <th>male</th>\n",
              "      <td>0.188908</td>\n",
              "    </tr>\n",
              "  </tbody>\n",
              "</table>\n",
              "</div>\n",
              "      <button class=\"colab-df-convert\" onclick=\"convertToInteractive('df-f23d8df8-866c-4171-b6f5-d6072a39b73c')\"\n",
              "              title=\"Convert this dataframe to an interactive table.\"\n",
              "              style=\"display:none;\">\n",
              "        \n",
              "  <svg xmlns=\"http://www.w3.org/2000/svg\" height=\"24px\"viewBox=\"0 0 24 24\"\n",
              "       width=\"24px\">\n",
              "    <path d=\"M0 0h24v24H0V0z\" fill=\"none\"/>\n",
              "    <path d=\"M18.56 5.44l.94 2.06.94-2.06 2.06-.94-2.06-.94-.94-2.06-.94 2.06-2.06.94zm-11 1L8.5 8.5l.94-2.06 2.06-.94-2.06-.94L8.5 2.5l-.94 2.06-2.06.94zm10 10l.94 2.06.94-2.06 2.06-.94-2.06-.94-.94-2.06-.94 2.06-2.06.94z\"/><path d=\"M17.41 7.96l-1.37-1.37c-.4-.4-.92-.59-1.43-.59-.52 0-1.04.2-1.43.59L10.3 9.45l-7.72 7.72c-.78.78-.78 2.05 0 2.83L4 21.41c.39.39.9.59 1.41.59.51 0 1.02-.2 1.41-.59l7.78-7.78 2.81-2.81c.8-.78.8-2.07 0-2.86zM5.41 20L4 18.59l7.72-7.72 1.47 1.35L5.41 20z\"/>\n",
              "  </svg>\n",
              "      </button>\n",
              "      \n",
              "  <style>\n",
              "    .colab-df-container {\n",
              "      display:flex;\n",
              "      flex-wrap:wrap;\n",
              "      gap: 12px;\n",
              "    }\n",
              "\n",
              "    .colab-df-convert {\n",
              "      background-color: #E8F0FE;\n",
              "      border: none;\n",
              "      border-radius: 50%;\n",
              "      cursor: pointer;\n",
              "      display: none;\n",
              "      fill: #1967D2;\n",
              "      height: 32px;\n",
              "      padding: 0 0 0 0;\n",
              "      width: 32px;\n",
              "    }\n",
              "\n",
              "    .colab-df-convert:hover {\n",
              "      background-color: #E2EBFA;\n",
              "      box-shadow: 0px 1px 2px rgba(60, 64, 67, 0.3), 0px 1px 3px 1px rgba(60, 64, 67, 0.15);\n",
              "      fill: #174EA6;\n",
              "    }\n",
              "\n",
              "    [theme=dark] .colab-df-convert {\n",
              "      background-color: #3B4455;\n",
              "      fill: #D2E3FC;\n",
              "    }\n",
              "\n",
              "    [theme=dark] .colab-df-convert:hover {\n",
              "      background-color: #434B5C;\n",
              "      box-shadow: 0px 1px 3px 1px rgba(0, 0, 0, 0.15);\n",
              "      filter: drop-shadow(0px 1px 2px rgba(0, 0, 0, 0.3));\n",
              "      fill: #FFFFFF;\n",
              "    }\n",
              "  </style>\n",
              "\n",
              "      <script>\n",
              "        const buttonEl =\n",
              "          document.querySelector('#df-f23d8df8-866c-4171-b6f5-d6072a39b73c button.colab-df-convert');\n",
              "        buttonEl.style.display =\n",
              "          google.colab.kernel.accessAllowed ? 'block' : 'none';\n",
              "\n",
              "        async function convertToInteractive(key) {\n",
              "          const element = document.querySelector('#df-f23d8df8-866c-4171-b6f5-d6072a39b73c');\n",
              "          const dataTable =\n",
              "            await google.colab.kernel.invokeFunction('convertToInteractive',\n",
              "                                                     [key], {});\n",
              "          if (!dataTable) return;\n",
              "\n",
              "          const docLinkHtml = 'Like what you see? Visit the ' +\n",
              "            '<a target=\"_blank\" href=https://colab.research.google.com/notebooks/data_table.ipynb>data table notebook</a>'\n",
              "            + ' to learn more about interactive tables.';\n",
              "          element.innerHTML = '';\n",
              "          dataTable['output_type'] = 'display_data';\n",
              "          await google.colab.output.renderOutput(dataTable, element);\n",
              "          const docLink = document.createElement('div');\n",
              "          docLink.innerHTML = docLinkHtml;\n",
              "          element.appendChild(docLink);\n",
              "        }\n",
              "      </script>\n",
              "    </div>\n",
              "  </div>\n",
              "  "
            ],
            "text/plain": [
              "        Survived\n",
              "Sex             \n",
              "female  0.742038\n",
              "male    0.188908"
            ]
          },
          "metadata": {},
          "execution_count": 52
        }
      ]
    },
    {
      "cell_type": "code",
      "source": [
        "f, ax = plt.subplots(1, 2, figsize=(18, 8))\n",
        "data[['Sex', 'Survived']].groupby(['Sex']).mean().plot.bar(ax=ax[0])\n",
        "ax[0].set_title('Survived vs Sex')\n",
        "sns.countplot('Sex', hue='Survived', data=data, ax=ax[1])\n",
        "ax[1].set_title('Sex: Survived vs Dead')\n",
        "plt.show()"
      ],
      "metadata": {
        "colab": {
          "base_uri": "https://localhost:8080/",
          "height": 392
        },
        "id": "XrC6Fe7T7TIl",
        "outputId": "de2c71db-c55f-454f-f5fa-ccd7a68bfc5b"
      },
      "execution_count": 53,
      "outputs": [
        {
          "output_type": "display_data",
          "data": {
            "image/png": "[encoded data removed]",
            "text/plain": [
              "<Figure size 1296x576 with 2 Axes>"
            ]
          },
          "metadata": {
            "needs_background": "light"
          }
        }
      ]
    },
    {
      "cell_type": "markdown",
      "source": [
        "흥미로워 보입니다. 배에서 남자들의 숫자는 여자의 수 보다 많습니다. 하지만 살아 남은 여자의 수는 남자 수에 비해서 거의 두 배입니다. **배의 여자 생존률은 75%에 달하는 반면 남자는 18-19%입니다.**  \n",
        "이는 모델링에 있어서 매우 중요한 피처인듯 합니다. 하지만 이것이 최선일까요? 다른 피처를 확인해 보겠습니다."
      ],
      "metadata": {
        "id": "ZayTC2cm7bTS"
      }
    },
    {
      "cell_type": "markdown",
      "source": [
        "### Pclass -> Ordinal Feature"
      ],
      "metadata": {
        "id": "HZq7FvOH8u3Z"
      }
    },
    {
      "cell_type": "code",
      "source": [
        "pd.crosstab(data.Pclass, data.Survived, margins=True)"
      ],
      "metadata": {
        "colab": {
          "base_uri": "https://localhost:8080/",
          "height": 206
        },
        "id": "i6FqIhMx89-U",
        "outputId": "1cf20d9c-4b49-4a47-a5e1-cb3747914f22"
      },
      "execution_count": 54,
      "outputs": [
        {
          "output_type": "execute_result",
          "data": {
            "text/html": [
              "\n",
              "  <div id=\"df-e349737a-79f9-4565-a407-845ab5165a7d\">\n",
              "    <div class=\"colab-df-container\">\n",
              "      <div>\n",
              "<style scoped>\n",
              "    .dataframe tbody tr th:only-of-type {\n",
              "        vertical-align: middle;\n",
              "    }\n",
              "\n",
              "    .dataframe tbody tr th {\n",
              "        vertical-align: top;\n",
              "    }\n",
              "\n",
              "    .dataframe thead th {\n",
              "        text-align: right;\n",
              "    }\n",
              "</style>\n",
              "<table border=\"1\" class=\"dataframe\">\n",
              "  <thead>\n",
              "    <tr style=\"text-align: right;\">\n",
              "      <th>Survived</th>\n",
              "      <th>0</th>\n",
              "      <th>1</th>\n",
              "      <th>All</th>\n",
              "    </tr>\n",
              "    <tr>\n",
              "      <th>Pclass</th>\n",
              "      <th></th>\n",
              "      <th></th>\n",
              "      <th></th>\n",
              "    </tr>\n",
              "  </thead>\n",
              "  <tbody>\n",
              "    <tr>\n",
              "      <th>1</th>\n",
              "      <td>80</td>\n",
              "      <td>136</td>\n",
              "      <td>216</td>\n",
              "    </tr>\n",
              "    <tr>\n",
              "      <th>2</th>\n",
              "      <td>97</td>\n",
              "      <td>87</td>\n",
              "      <td>184</td>\n",
              "    </tr>\n",
              "    <tr>\n",
              "      <th>3</th>\n",
              "      <td>372</td>\n",
              "      <td>119</td>\n",
              "      <td>491</td>\n",
              "    </tr>\n",
              "    <tr>\n",
              "      <th>All</th>\n",
              "      <td>549</td>\n",
              "      <td>342</td>\n",
              "      <td>891</td>\n",
              "    </tr>\n",
              "  </tbody>\n",
              "</table>\n",
              "</div>\n",
              "      <button class=\"colab-df-convert\" onclick=\"convertToInteractive('df-e349737a-79f9-4565-a407-845ab5165a7d')\"\n",
              "              title=\"Convert this dataframe to an interactive table.\"\n",
              "              style=\"display:none;\">\n",
              "        \n",
              "  <svg xmlns=\"http://www.w3.org/2000/svg\" height=\"24px\"viewBox=\"0 0 24 24\"\n",
              "       width=\"24px\">\n",
              "    <path d=\"M0 0h24v24H0V0z\" fill=\"none\"/>\n",
              "    <path d=\"M18.56 5.44l.94 2.06.94-2.06 2.06-.94-2.06-.94-.94-2.06-.94 2.06-2.06.94zm-11 1L8.5 8.5l.94-2.06 2.06-.94-2.06-.94L8.5 2.5l-.94 2.06-2.06.94zm10 10l.94 2.06.94-2.06 2.06-.94-2.06-.94-.94-2.06-.94 2.06-2.06.94z\"/><path d=\"M17.41 7.96l-1.37-1.37c-.4-.4-.92-.59-1.43-.59-.52 0-1.04.2-1.43.59L10.3 9.45l-7.72 7.72c-.78.78-.78 2.05 0 2.83L4 21.41c.39.39.9.59 1.41.59.51 0 1.02-.2 1.41-.59l7.78-7.78 2.81-2.81c.8-.78.8-2.07 0-2.86zM5.41 20L4 18.59l7.72-7.72 1.47 1.35L5.41 20z\"/>\n",
              "  </svg>\n",
              "      </button>\n",
              "      \n",
              "  <style>\n",
              "    .colab-df-container {\n",
              "      display:flex;\n",
              "      flex-wrap:wrap;\n",
              "      gap: 12px;\n",
              "    }\n",
              "\n",
              "    .colab-df-convert {\n",
              "      background-color: #E8F0FE;\n",
              "      border: none;\n",
              "      border-radius: 50%;\n",
              "      cursor: pointer;\n",
              "      display: none;\n",
              "      fill: #1967D2;\n",
              "      height: 32px;\n",
              "      padding: 0 0 0 0;\n",
              "      width: 32px;\n",
              "    }\n",
              "\n",
              "    .colab-df-convert:hover {\n",
              "      background-color: #E2EBFA;\n",
              "      box-shadow: 0px 1px 2px rgba(60, 64, 67, 0.3), 0px 1px 3px 1px rgba(60, 64, 67, 0.15);\n",
              "      fill: #174EA6;\n",
              "    }\n",
              "\n",
              "    [theme=dark] .colab-df-convert {\n",
              "      background-color: #3B4455;\n",
              "      fill: #D2E3FC;\n",
              "    }\n",
              "\n",
              "    [theme=dark] .colab-df-convert:hover {\n",
              "      background-color: #434B5C;\n",
              "      box-shadow: 0px 1px 3px 1px rgba(0, 0, 0, 0.15);\n",
              "      filter: drop-shadow(0px 1px 2px rgba(0, 0, 0, 0.3));\n",
              "      fill: #FFFFFF;\n",
              "    }\n",
              "  </style>\n",
              "\n",
              "      <script>\n",
              "        const buttonEl =\n",
              "          document.querySelector('#df-e349737a-79f9-4565-a407-845ab5165a7d button.colab-df-convert');\n",
              "        buttonEl.style.display =\n",
              "          google.colab.kernel.accessAllowed ? 'block' : 'none';\n",
              "\n",
              "        async function convertToInteractive(key) {\n",
              "          const element = document.querySelector('#df-e349737a-79f9-4565-a407-845ab5165a7d');\n",
              "          const dataTable =\n",
              "            await google.colab.kernel.invokeFunction('convertToInteractive',\n",
              "                                                     [key], {});\n",
              "          if (!dataTable) return;\n",
              "\n",
              "          const docLinkHtml = 'Like what you see? Visit the ' +\n",
              "            '<a target=\"_blank\" href=https://colab.research.google.com/notebooks/data_table.ipynb>data table notebook</a>'\n",
              "            + ' to learn more about interactive tables.';\n",
              "          element.innerHTML = '';\n",
              "          dataTable['output_type'] = 'display_data';\n",
              "          await google.colab.output.renderOutput(dataTable, element);\n",
              "          const docLink = document.createElement('div');\n",
              "          docLink.innerHTML = docLinkHtml;\n",
              "          element.appendChild(docLink);\n",
              "        }\n",
              "      </script>\n",
              "    </div>\n",
              "  </div>\n",
              "  "
            ],
            "text/plain": [
              "Survived    0    1  All\n",
              "Pclass                 \n",
              "1          80  136  216\n",
              "2          97   87  184\n",
              "3         372  119  491\n",
              "All       549  342  891"
            ]
          },
          "metadata": {},
          "execution_count": 54
        }
      ]
    },
    {
      "cell_type": "code",
      "source": [
        "pd.crosstab(data.Pclass, data.Survived, margins=True).style.background_gradient(cmap='summer_r')"
      ],
      "metadata": {
        "colab": {
          "base_uri": "https://localhost:8080/",
          "height": 206
        },
        "id": "h47Gekli8yPr",
        "outputId": "46f7179b-81ae-4d21-ca7e-190c4b602233"
      },
      "execution_count": 55,
      "outputs": [
        {
          "output_type": "execute_result",
          "data": {
            "text/html": [
              "<style  type=\"text/css\" >\n",
              "#T_60260490_67cb_11ec_a6b7_0242ac1c0002row0_col0,#T_60260490_67cb_11ec_a6b7_0242ac1c0002row1_col1,#T_60260490_67cb_11ec_a6b7_0242ac1c0002row1_col2{\n",
              "            background-color:  #ffff66;\n",
              "            color:  #000000;\n",
              "        }#T_60260490_67cb_11ec_a6b7_0242ac1c0002row0_col1{\n",
              "            background-color:  #cee666;\n",
              "            color:  #000000;\n",
              "        }#T_60260490_67cb_11ec_a6b7_0242ac1c0002row0_col2{\n",
              "            background-color:  #f4fa66;\n",
              "            color:  #000000;\n",
              "        }#T_60260490_67cb_11ec_a6b7_0242ac1c0002row1_col0{\n",
              "            background-color:  #f6fa66;\n",
              "            color:  #000000;\n",
              "        }#T_60260490_67cb_11ec_a6b7_0242ac1c0002row2_col0{\n",
              "            background-color:  #60b066;\n",
              "            color:  #000000;\n",
              "        }#T_60260490_67cb_11ec_a6b7_0242ac1c0002row2_col1{\n",
              "            background-color:  #dfef66;\n",
              "            color:  #000000;\n",
              "        }#T_60260490_67cb_11ec_a6b7_0242ac1c0002row2_col2{\n",
              "            background-color:  #90c866;\n",
              "            color:  #000000;\n",
              "        }#T_60260490_67cb_11ec_a6b7_0242ac1c0002row3_col0,#T_60260490_67cb_11ec_a6b7_0242ac1c0002row3_col1,#T_60260490_67cb_11ec_a6b7_0242ac1c0002row3_col2{\n",
              "            background-color:  #008066;\n",
              "            color:  #f1f1f1;\n",
              "        }</style><table id=\"T_60260490_67cb_11ec_a6b7_0242ac1c0002\" class=\"dataframe\"><thead>    <tr>        <th class=\"index_name level0\" >Survived</th>        <th class=\"col_heading level0 col0\" >0</th>        <th class=\"col_heading level0 col1\" >1</th>        <th class=\"col_heading level0 col2\" >All</th>    </tr>    <tr>        <th class=\"index_name level0\" >Pclass</th>        <th class=\"blank\" ></th>        <th class=\"blank\" ></th>        <th class=\"blank\" ></th>    </tr></thead><tbody>\n",
              "                <tr>\n",
              "                        <th id=\"T_60260490_67cb_11ec_a6b7_0242ac1c0002level0_row0\" class=\"row_heading level0 row0\" >1</th>\n",
              "                        <td id=\"T_60260490_67cb_11ec_a6b7_0242ac1c0002row0_col0\" class=\"data row0 col0\" >80</td>\n",
              "                        <td id=\"T_60260490_67cb_11ec_a6b7_0242ac1c0002row0_col1\" class=\"data row0 col1\" >136</td>\n",
              "                        <td id=\"T_60260490_67cb_11ec_a6b7_0242ac1c0002row0_col2\" class=\"data row0 col2\" >216</td>\n",
              "            </tr>\n",
              "            <tr>\n",
              "                        <th id=\"T_60260490_67cb_11ec_a6b7_0242ac1c0002level0_row1\" class=\"row_heading level0 row1\" >2</th>\n",
              "                        <td id=\"T_60260490_67cb_11ec_a6b7_0242ac1c0002row1_col0\" class=\"data row1 col0\" >97</td>\n",
              "                        <td id=\"T_60260490_67cb_11ec_a6b7_0242ac1c0002row1_col1\" class=\"data row1 col1\" >87</td>\n",
              "                        <td id=\"T_60260490_67cb_11ec_a6b7_0242ac1c0002row1_col2\" class=\"data row1 col2\" >184</td>\n",
              "            </tr>\n",
              "            <tr>\n",
              "                        <th id=\"T_60260490_67cb_11ec_a6b7_0242ac1c0002level0_row2\" class=\"row_heading level0 row2\" >3</th>\n",
              "                        <td id=\"T_60260490_67cb_11ec_a6b7_0242ac1c0002row2_col0\" class=\"data row2 col0\" >372</td>\n",
              "                        <td id=\"T_60260490_67cb_11ec_a6b7_0242ac1c0002row2_col1\" class=\"data row2 col1\" >119</td>\n",
              "                        <td id=\"T_60260490_67cb_11ec_a6b7_0242ac1c0002row2_col2\" class=\"data row2 col2\" >491</td>\n",
              "            </tr>\n",
              "            <tr>\n",
              "                        <th id=\"T_60260490_67cb_11ec_a6b7_0242ac1c0002level0_row3\" class=\"row_heading level0 row3\" >All</th>\n",
              "                        <td id=\"T_60260490_67cb_11ec_a6b7_0242ac1c0002row3_col0\" class=\"data row3 col0\" >549</td>\n",
              "                        <td id=\"T_60260490_67cb_11ec_a6b7_0242ac1c0002row3_col1\" class=\"data row3 col1\" >342</td>\n",
              "                        <td id=\"T_60260490_67cb_11ec_a6b7_0242ac1c0002row3_col2\" class=\"data row3 col2\" >891</td>\n",
              "            </tr>\n",
              "    </tbody></table>"
            ],
            "text/plain": [
              "<pandas.io.formats.style.Styler at 0x7f8692c07510>"
            ]
          },
          "metadata": {},
          "execution_count": 55
        }
      ]
    },
    {
      "cell_type": "code",
      "source": [
        "f, ax = plt.subplots(1, 2, figsize=(18, 8))\n",
        "data['Pclass'].value_counts().plot.bar(color=['#CD7F32', '#FFDF00', '#D3D3D3'], ax=ax[0])\n",
        "ax[0].set_title('Number Of Passengers By Pclass')\n",
        "ax[0].set_ylabel('Count')\n",
        "\n",
        "sns.countplot('Pclass', hue='Survived', data=data, ax=ax[1])\n",
        "ax[1].set_title('Pclass: Survived vs Dead')\n",
        "plt.show()"
      ],
      "metadata": {
        "colab": {
          "base_uri": "https://localhost:8080/",
          "height": 368
        },
        "id": "vPLbwh2Y88dV",
        "outputId": "9e2167f2-18c9-4baf-c92b-75edae09eb88"
      },
      "execution_count": 56,
      "outputs": [
        {
          "output_type": "display_data",
          "data": {
            "image/png": "[encoded data removed]",
            "text/plain": [
              "<Figure size 1296x576 with 2 Axes>"
            ]
          },
          "metadata": {
            "needs_background": "light"
          }
        }
      ]
    },
    {
      "cell_type": "markdown",
      "source": [
        "사람들은 \"돈으로 모든 것을 살 수 없다\"고 말합니다. 하지만 우리는 분명하게 볼 수 있습니다. Pclass1의 승객은 구조에 있어 매우 높은 우선 순위를 얻었습니다. 심지어 Pclass 3의 승객의 수가 비교적으로 매우 많았지만 살아 남은 수는 매우 적었습니다. **25%** 근처 정도 될 것입니다.  \n",
        "Pclass 1의 경우 산 사람은 **63%** 정도 되는 반면 Pclass 2는 **48%** 정도입니다. 따라서 돈과 지위는 중요합니다.  \n",
        "조금 더 파고 들어가 확인해 봅시다. 다른 흥미로운 관측에 대해. **Sex, Pclass**에 대한 생존률을 같이 확인해 봅시다."
      ],
      "metadata": {
        "id": "Z5jMgfXO9kBE"
      }
    },
    {
      "cell_type": "code",
      "source": [
        "pd.crosstab([data.Sex, data.Survived], data.Pclass, margins=True).style.background_gradient(cmap='summer_r')"
      ],
      "metadata": {
        "colab": {
          "base_uri": "https://localhost:8080/",
          "height": 238
        },
        "id": "BT_f544H-063",
        "outputId": "8fe08610-8dbb-451d-a111-73774c9f941d"
      },
      "execution_count": 57,
      "outputs": [
        {
          "output_type": "execute_result",
          "data": {
            "text/html": [
              "<style  type=\"text/css\" >\n",
              "#T_606865a6_67cb_11ec_a6b7_0242ac1c0002row0_col0,#T_606865a6_67cb_11ec_a6b7_0242ac1c0002row0_col1,#T_606865a6_67cb_11ec_a6b7_0242ac1c0002row0_col3,#T_606865a6_67cb_11ec_a6b7_0242ac1c0002row3_col2{\n",
              "            background-color:  #ffff66;\n",
              "            color:  #000000;\n",
              "        }#T_606865a6_67cb_11ec_a6b7_0242ac1c0002row0_col2,#T_606865a6_67cb_11ec_a6b7_0242ac1c0002row1_col2{\n",
              "            background-color:  #f1f866;\n",
              "            color:  #000000;\n",
              "        }#T_606865a6_67cb_11ec_a6b7_0242ac1c0002row1_col0{\n",
              "            background-color:  #96cb66;\n",
              "            color:  #000000;\n",
              "        }#T_606865a6_67cb_11ec_a6b7_0242ac1c0002row1_col1{\n",
              "            background-color:  #a3d166;\n",
              "            color:  #000000;\n",
              "        }#T_606865a6_67cb_11ec_a6b7_0242ac1c0002row1_col3{\n",
              "            background-color:  #cfe766;\n",
              "            color:  #000000;\n",
              "        }#T_606865a6_67cb_11ec_a6b7_0242ac1c0002row2_col0{\n",
              "            background-color:  #a7d366;\n",
              "            color:  #000000;\n",
              "        }#T_606865a6_67cb_11ec_a6b7_0242ac1c0002row2_col1,#T_606865a6_67cb_11ec_a6b7_0242ac1c0002row2_col3{\n",
              "            background-color:  #85c266;\n",
              "            color:  #000000;\n",
              "        }#T_606865a6_67cb_11ec_a6b7_0242ac1c0002row2_col2{\n",
              "            background-color:  #6eb666;\n",
              "            color:  #000000;\n",
              "        }#T_606865a6_67cb_11ec_a6b7_0242ac1c0002row3_col0{\n",
              "            background-color:  #cde666;\n",
              "            color:  #000000;\n",
              "        }#T_606865a6_67cb_11ec_a6b7_0242ac1c0002row3_col1{\n",
              "            background-color:  #f0f866;\n",
              "            color:  #000000;\n",
              "        }#T_606865a6_67cb_11ec_a6b7_0242ac1c0002row3_col3{\n",
              "            background-color:  #f7fb66;\n",
              "            color:  #000000;\n",
              "        }#T_606865a6_67cb_11ec_a6b7_0242ac1c0002row4_col0,#T_606865a6_67cb_11ec_a6b7_0242ac1c0002row4_col1,#T_606865a6_67cb_11ec_a6b7_0242ac1c0002row4_col2,#T_606865a6_67cb_11ec_a6b7_0242ac1c0002row4_col3{\n",
              "            background-color:  #008066;\n",
              "            color:  #f1f1f1;\n",
              "        }</style><table id=\"T_606865a6_67cb_11ec_a6b7_0242ac1c0002\" class=\"dataframe\"><thead>    <tr>        <th class=\"blank\" ></th>        <th class=\"index_name level0\" >Pclass</th>        <th class=\"col_heading level0 col0\" >1</th>        <th class=\"col_heading level0 col1\" >2</th>        <th class=\"col_heading level0 col2\" >3</th>        <th class=\"col_heading level0 col3\" >All</th>    </tr>    <tr>        <th class=\"index_name level0\" >Sex</th>        <th class=\"index_name level1\" >Survived</th>        <th class=\"blank\" ></th>        <th class=\"blank\" ></th>        <th class=\"blank\" ></th>        <th class=\"blank\" ></th>    </tr></thead><tbody>\n",
              "                <tr>\n",
              "                        <th id=\"T_606865a6_67cb_11ec_a6b7_0242ac1c0002level0_row0\" class=\"row_heading level0 row0\" rowspan=2>female</th>\n",
              "                        <th id=\"T_606865a6_67cb_11ec_a6b7_0242ac1c0002level1_row0\" class=\"row_heading level1 row0\" >0</th>\n",
              "                        <td id=\"T_606865a6_67cb_11ec_a6b7_0242ac1c0002row0_col0\" class=\"data row0 col0\" >3</td>\n",
              "                        <td id=\"T_606865a6_67cb_11ec_a6b7_0242ac1c0002row0_col1\" class=\"data row0 col1\" >6</td>\n",
              "                        <td id=\"T_606865a6_67cb_11ec_a6b7_0242ac1c0002row0_col2\" class=\"data row0 col2\" >72</td>\n",
              "                        <td id=\"T_606865a6_67cb_11ec_a6b7_0242ac1c0002row0_col3\" class=\"data row0 col3\" >81</td>\n",
              "            </tr>\n",
              "            <tr>\n",
              "                                <th id=\"T_606865a6_67cb_11ec_a6b7_0242ac1c0002level1_row1\" class=\"row_heading level1 row1\" >1</th>\n",
              "                        <td id=\"T_606865a6_67cb_11ec_a6b7_0242ac1c0002row1_col0\" class=\"data row1 col0\" >91</td>\n",
              "                        <td id=\"T_606865a6_67cb_11ec_a6b7_0242ac1c0002row1_col1\" class=\"data row1 col1\" >70</td>\n",
              "                        <td id=\"T_606865a6_67cb_11ec_a6b7_0242ac1c0002row1_col2\" class=\"data row1 col2\" >72</td>\n",
              "                        <td id=\"T_606865a6_67cb_11ec_a6b7_0242ac1c0002row1_col3\" class=\"data row1 col3\" >233</td>\n",
              "            </tr>\n",
              "            <tr>\n",
              "                        <th id=\"T_606865a6_67cb_11ec_a6b7_0242ac1c0002level0_row2\" class=\"row_heading level0 row2\" rowspan=2>male</th>\n",
              "                        <th id=\"T_606865a6_67cb_11ec_a6b7_0242ac1c0002level1_row2\" class=\"row_heading level1 row2\" >0</th>\n",
              "                        <td id=\"T_606865a6_67cb_11ec_a6b7_0242ac1c0002row2_col0\" class=\"data row2 col0\" >77</td>\n",
              "                        <td id=\"T_606865a6_67cb_11ec_a6b7_0242ac1c0002row2_col1\" class=\"data row2 col1\" >91</td>\n",
              "                        <td id=\"T_606865a6_67cb_11ec_a6b7_0242ac1c0002row2_col2\" class=\"data row2 col2\" >300</td>\n",
              "                        <td id=\"T_606865a6_67cb_11ec_a6b7_0242ac1c0002row2_col3\" class=\"data row2 col3\" >468</td>\n",
              "            </tr>\n",
              "            <tr>\n",
              "                                <th id=\"T_606865a6_67cb_11ec_a6b7_0242ac1c0002level1_row3\" class=\"row_heading level1 row3\" >1</th>\n",
              "                        <td id=\"T_606865a6_67cb_11ec_a6b7_0242ac1c0002row3_col0\" class=\"data row3 col0\" >45</td>\n",
              "                        <td id=\"T_606865a6_67cb_11ec_a6b7_0242ac1c0002row3_col1\" class=\"data row3 col1\" >17</td>\n",
              "                        <td id=\"T_606865a6_67cb_11ec_a6b7_0242ac1c0002row3_col2\" class=\"data row3 col2\" >47</td>\n",
              "                        <td id=\"T_606865a6_67cb_11ec_a6b7_0242ac1c0002row3_col3\" class=\"data row3 col3\" >109</td>\n",
              "            </tr>\n",
              "            <tr>\n",
              "                        <th id=\"T_606865a6_67cb_11ec_a6b7_0242ac1c0002level0_row4\" class=\"row_heading level0 row4\" >All</th>\n",
              "                        <th id=\"T_606865a6_67cb_11ec_a6b7_0242ac1c0002level1_row4\" class=\"row_heading level1 row4\" ></th>\n",
              "                        <td id=\"T_606865a6_67cb_11ec_a6b7_0242ac1c0002row4_col0\" class=\"data row4 col0\" >216</td>\n",
              "                        <td id=\"T_606865a6_67cb_11ec_a6b7_0242ac1c0002row4_col1\" class=\"data row4 col1\" >184</td>\n",
              "                        <td id=\"T_606865a6_67cb_11ec_a6b7_0242ac1c0002row4_col2\" class=\"data row4 col2\" >491</td>\n",
              "                        <td id=\"T_606865a6_67cb_11ec_a6b7_0242ac1c0002row4_col3\" class=\"data row4 col3\" >891</td>\n",
              "            </tr>\n",
              "    </tbody></table>"
            ],
            "text/plain": [
              "<pandas.io.formats.style.Styler at 0x7f8691904ad0>"
            ]
          },
          "metadata": {},
          "execution_count": 57
        }
      ]
    },
    {
      "cell_type": "code",
      "source": [
        "sns.factorplot('Pclass', 'Survived', hue='Sex', data=data)\n",
        "plt.show()"
      ],
      "metadata": {
        "colab": {
          "base_uri": "https://localhost:8080/",
          "height": 369
        },
        "id": "HZB_IoGC_AQ4",
        "outputId": "6b4d6be8-da26-456a-f6a0-bee5a04b9452"
      },
      "execution_count": 58,
      "outputs": [
        {
          "output_type": "display_data",
          "data": {
            "image/png": "[encoded data removed]",
            "text/plain": [
              "<Figure size 430.5x360 with 1 Axes>"
            ]
          },
          "metadata": {
            "needs_background": "light"
          }
        }
      ]
    },
    {
      "cell_type": "markdown",
      "source": [
        "이 경우에 대해서는 **FactorPlot**을 썼습니다. 이들은 categorical values에 대한 구분을 쉽게 만들어 줍니다.  \n",
        "CrossTab과 FactorPlot을 보면, 우리는 쉽게 추론할 수 있습니다. Pclass1의 여자 생존률은 **95-96%** 정도이며 Pclass1의 여성들은 오직 94명 중 3명이 죽었습니다.  \n",
        "이는 명확합니다. Pclass엥 상관 없이 여성은 구조에 있어 첫 번째 우선순위를 얻습니다. 심지어 Pclass1의 남성은 매우 낮은 생존률을 기록했습니다.  \n",
        "Pclass 또한 매우 중요한 피처로 도입니다. 다른 피처들 또한 분석해 봅시다."
      ],
      "metadata": {
        "id": "ZlfWK9mk_c9D"
      }
    },
    {
      "cell_type": "markdown",
      "source": [
        "### Age -> Continous Feature"
      ],
      "metadata": {
        "id": "zeZoFy2zAjJM"
      }
    },
    {
      "cell_type": "code",
      "source": [
        "print('Oldest Passenger was of:', data['Age'].max(), 'Years')\n",
        "print('Youngest Passenger was of:', data['Age'].min(), 'Years')\n",
        "print('Average Age on the ship:', data['Age'].mean(), 'Years')"
      ],
      "metadata": {
        "colab": {
          "base_uri": "https://localhost:8080/"
        },
        "id": "wEbVvywqA_5m",
        "outputId": "e8ee1b6f-4d90-4b71-dd99-2900648f6312"
      },
      "execution_count": 59,
      "outputs": [
        {
          "output_type": "stream",
          "name": "stdout",
          "text": [
            "Oldest Passenger was of: 80.0 Years\n",
            "Youngest Passenger was of: 0.42 Years\n",
            "Average Age on the ship: 29.69911764705882 Years\n"
          ]
        }
      ]
    },
    {
      "cell_type": "code",
      "source": [
        "f, ax = plt.subplots(1, 2, figsize=(18, 8))\n",
        "sns.violinplot('Pclass', 'Age', hue='Survived', data=data, split=True, ax=ax[0])\n",
        "ax[0].set_title('Pclass and Age vs Survived')\n",
        "ax[0].set_yticks(range(0, 110, 10))\n",
        "\n",
        "sns.violinplot(\"Sex\", \"Age\", hue='Survived', data=data, split=True, ax=ax[1])\n",
        "ax[1].set_title('Sex and Age vs Survived')\n",
        "ax[1].set_yticks(range(0, 110, 10))\n",
        "plt.show()"
      ],
      "metadata": {
        "colab": {
          "base_uri": "https://localhost:8080/",
          "height": 368
        },
        "id": "hhmAYzRHBXRF",
        "outputId": "ed71ca2b-0a2f-4d98-b2cd-bb264ac4da0e"
      },
      "execution_count": 60,
      "outputs": [
        {
          "output_type": "display_data",
          "data": {
            "image/png": "[encoded data removed]",
            "text/plain": [
              "<Figure size 1296x576 with 2 Axes>"
            ]
          },
          "metadata": {
            "needs_background": "light"
          }
        }
      ]
    },
    {
      "cell_type": "markdown",
      "source": [
        "**논평:**  \n",
        "1) 아이들의 수는 Pclass에 따라 증가합니다. 그리고 10살 미만 승객의 생존률(즉, 아이들)은 Pclass에 상관 없이 좋은 것 같습니다.  \n",
        "2) Pclass1 승객의 20-50살의 생존 기회는 높으며 심지어 여성들보다 좋습니다.  \n",
        "3) 남성에 있어, 생존 기회는 나이가 증가할 수록 감소합니다."
      ],
      "metadata": {
        "id": "_SGQm73qCGmr"
      }
    },
    {
      "cell_type": "markdown",
      "source": [
        "이전에 봤는이 Age feature은 177개의 null 값을 가집니다. 이 NaN 값을 대체하기 위해 우리는 데이터 셋에서 나이의 평균 값을 할당할 것입니다.  \n",
        "하지만 문제는 다양한 나이대를 가진 많은 사람들이 있다는 것입니다. 우리는 4살의 아이에게 평균 값인 29살을 할당할 수 없습니다. 승객의 연령 밴드가 어떻게 되는지에 대해서 알 방법이 없을까요?  \n",
        "**Name** Feature를 확인할 수 있습니다. 이로써 Mr or Mrs와 같은 이름이 가진 인사말을 확인할 수 있습니다. 그러므로 우리는 Mr와 Mrs의 상대적 그룹에 대한 평균 값을 할당할 수 있습니다."
      ],
      "metadata": {
        "id": "hlTpASY0DNhd"
      }
    },
    {
      "cell_type": "code",
      "source": [
        "data['Initial'] = 0\n",
        "for i in data:\n",
        "  data['Initial'] = data.Name.str.extract('([A-Za-z]+)\\.') # extract the Salutation 영어 대문자, 소문자 + dot 추출\n"
      ],
      "metadata": {
        "id": "aGArk8yuEr4C"
      },
      "execution_count": 61,
      "outputs": []
    },
    {
      "cell_type": "markdown",
      "source": [
        "Salutation에는 영어 뿐만 아니라 . (dot)까지 포함돼 있다. 따라서 정규식을 이용해 해당 문자가 들어 있는 모든 부분을 추출한다."
      ],
      "metadata": {
        "id": "k20KhRyfqvQg"
      }
    },
    {
      "cell_type": "code",
      "source": [
        "pd.crosstab(data.Initial, data.Sex).T.style.background_gradient(cmap='summer_r') # 성별에 따른 Initial 확인"
      ],
      "metadata": {
        "colab": {
          "base_uri": "https://localhost:8080/",
          "height": 163
        },
        "id": "z4Vjlpk1q_2p",
        "outputId": "96ad3936-147c-43ef-d4e6-b4afe026f89b"
      },
      "execution_count": 62,
      "outputs": [
        {
          "output_type": "execute_result",
          "data": {
            "text/html": [
              "<style  type=\"text/css\" >\n",
              "#T_72a7ccba_67cc_11ec_a6b7_0242ac1c0002row0_col0,#T_72a7ccba_67cc_11ec_a6b7_0242ac1c0002row0_col1,#T_72a7ccba_67cc_11ec_a6b7_0242ac1c0002row0_col3,#T_72a7ccba_67cc_11ec_a6b7_0242ac1c0002row0_col4,#T_72a7ccba_67cc_11ec_a6b7_0242ac1c0002row0_col5,#T_72a7ccba_67cc_11ec_a6b7_0242ac1c0002row0_col7,#T_72a7ccba_67cc_11ec_a6b7_0242ac1c0002row0_col8,#T_72a7ccba_67cc_11ec_a6b7_0242ac1c0002row0_col12,#T_72a7ccba_67cc_11ec_a6b7_0242ac1c0002row0_col15,#T_72a7ccba_67cc_11ec_a6b7_0242ac1c0002row0_col16,#T_72a7ccba_67cc_11ec_a6b7_0242ac1c0002row1_col2,#T_72a7ccba_67cc_11ec_a6b7_0242ac1c0002row1_col6,#T_72a7ccba_67cc_11ec_a6b7_0242ac1c0002row1_col9,#T_72a7ccba_67cc_11ec_a6b7_0242ac1c0002row1_col10,#T_72a7ccba_67cc_11ec_a6b7_0242ac1c0002row1_col11,#T_72a7ccba_67cc_11ec_a6b7_0242ac1c0002row1_col13,#T_72a7ccba_67cc_11ec_a6b7_0242ac1c0002row1_col14{\n",
              "            background-color:  #ffff66;\n",
              "            color:  #000000;\n",
              "        }#T_72a7ccba_67cc_11ec_a6b7_0242ac1c0002row0_col2,#T_72a7ccba_67cc_11ec_a6b7_0242ac1c0002row0_col6,#T_72a7ccba_67cc_11ec_a6b7_0242ac1c0002row0_col9,#T_72a7ccba_67cc_11ec_a6b7_0242ac1c0002row0_col10,#T_72a7ccba_67cc_11ec_a6b7_0242ac1c0002row0_col11,#T_72a7ccba_67cc_11ec_a6b7_0242ac1c0002row0_col13,#T_72a7ccba_67cc_11ec_a6b7_0242ac1c0002row0_col14,#T_72a7ccba_67cc_11ec_a6b7_0242ac1c0002row1_col0,#T_72a7ccba_67cc_11ec_a6b7_0242ac1c0002row1_col1,#T_72a7ccba_67cc_11ec_a6b7_0242ac1c0002row1_col3,#T_72a7ccba_67cc_11ec_a6b7_0242ac1c0002row1_col4,#T_72a7ccba_67cc_11ec_a6b7_0242ac1c0002row1_col5,#T_72a7ccba_67cc_11ec_a6b7_0242ac1c0002row1_col7,#T_72a7ccba_67cc_11ec_a6b7_0242ac1c0002row1_col8,#T_72a7ccba_67cc_11ec_a6b7_0242ac1c0002row1_col12,#T_72a7ccba_67cc_11ec_a6b7_0242ac1c0002row1_col15,#T_72a7ccba_67cc_11ec_a6b7_0242ac1c0002row1_col16{\n",
              "            background-color:  #008066;\n",
              "            color:  #f1f1f1;\n",
              "        }</style><table id=\"T_72a7ccba_67cc_11ec_a6b7_0242ac1c0002\" class=\"dataframe\"><thead>    <tr>        <th class=\"index_name level0\" >Initial</th>        <th class=\"col_heading level0 col0\" >Capt</th>        <th class=\"col_heading level0 col1\" >Col</th>        <th class=\"col_heading level0 col2\" >Countess</th>        <th class=\"col_heading level0 col3\" >Don</th>        <th class=\"col_heading level0 col4\" >Dr</th>        <th class=\"col_heading level0 col5\" >Jonkheer</th>        <th class=\"col_heading level0 col6\" >Lady</th>        <th class=\"col_heading level0 col7\" >Major</th>        <th class=\"col_heading level0 col8\" >Master</th>        <th class=\"col_heading level0 col9\" >Miss</th>        <th class=\"col_heading level0 col10\" >Mlle</th>        <th class=\"col_heading level0 col11\" >Mme</th>        <th class=\"col_heading level0 col12\" >Mr</th>        <th class=\"col_heading level0 col13\" >Mrs</th>        <th class=\"col_heading level0 col14\" >Ms</th>        <th class=\"col_heading level0 col15\" >Rev</th>        <th class=\"col_heading level0 col16\" >Sir</th>    </tr>    <tr>        <th class=\"index_name level0\" >Sex</th>        <th class=\"blank\" ></th>        <th class=\"blank\" ></th>        <th class=\"blank\" ></th>        <th class=\"blank\" ></th>        <th class=\"blank\" ></th>        <th class=\"blank\" ></th>        <th class=\"blank\" ></th>        <th class=\"blank\" ></th>        <th class=\"blank\" ></th>        <th class=\"blank\" ></th>        <th class=\"blank\" ></th>        <th class=\"blank\" ></th>        <th class=\"blank\" ></th>        <th class=\"blank\" ></th>        <th class=\"blank\" ></th>        <th class=\"blank\" ></th>        <th class=\"blank\" ></th>    </tr></thead><tbody>\n",
              "                <tr>\n",
              "                        <th id=\"T_72a7ccba_67cc_11ec_a6b7_0242ac1c0002level0_row0\" class=\"row_heading level0 row0\" >female</th>\n",
              "                        <td id=\"T_72a7ccba_67cc_11ec_a6b7_0242ac1c0002row0_col0\" class=\"data row0 col0\" >0</td>\n",
              "                        <td id=\"T_72a7ccba_67cc_11ec_a6b7_0242ac1c0002row0_col1\" class=\"data row0 col1\" >0</td>\n",
              "                        <td id=\"T_72a7ccba_67cc_11ec_a6b7_0242ac1c0002row0_col2\" class=\"data row0 col2\" >1</td>\n",
              "                        <td id=\"T_72a7ccba_67cc_11ec_a6b7_0242ac1c0002row0_col3\" class=\"data row0 col3\" >0</td>\n",
              "                        <td id=\"T_72a7ccba_67cc_11ec_a6b7_0242ac1c0002row0_col4\" class=\"data row0 col4\" >1</td>\n",
              "                        <td id=\"T_72a7ccba_67cc_11ec_a6b7_0242ac1c0002row0_col5\" class=\"data row0 col5\" >0</td>\n",
              "                        <td id=\"T_72a7ccba_67cc_11ec_a6b7_0242ac1c0002row0_col6\" class=\"data row0 col6\" >1</td>\n",
              "                        <td id=\"T_72a7ccba_67cc_11ec_a6b7_0242ac1c0002row0_col7\" class=\"data row0 col7\" >0</td>\n",
              "                        <td id=\"T_72a7ccba_67cc_11ec_a6b7_0242ac1c0002row0_col8\" class=\"data row0 col8\" >0</td>\n",
              "                        <td id=\"T_72a7ccba_67cc_11ec_a6b7_0242ac1c0002row0_col9\" class=\"data row0 col9\" >182</td>\n",
              "                        <td id=\"T_72a7ccba_67cc_11ec_a6b7_0242ac1c0002row0_col10\" class=\"data row0 col10\" >2</td>\n",
              "                        <td id=\"T_72a7ccba_67cc_11ec_a6b7_0242ac1c0002row0_col11\" class=\"data row0 col11\" >1</td>\n",
              "                        <td id=\"T_72a7ccba_67cc_11ec_a6b7_0242ac1c0002row0_col12\" class=\"data row0 col12\" >0</td>\n",
              "                        <td id=\"T_72a7ccba_67cc_11ec_a6b7_0242ac1c0002row0_col13\" class=\"data row0 col13\" >125</td>\n",
              "                        <td id=\"T_72a7ccba_67cc_11ec_a6b7_0242ac1c0002row0_col14\" class=\"data row0 col14\" >1</td>\n",
              "                        <td id=\"T_72a7ccba_67cc_11ec_a6b7_0242ac1c0002row0_col15\" class=\"data row0 col15\" >0</td>\n",
              "                        <td id=\"T_72a7ccba_67cc_11ec_a6b7_0242ac1c0002row0_col16\" class=\"data row0 col16\" >0</td>\n",
              "            </tr>\n",
              "            <tr>\n",
              "                        <th id=\"T_72a7ccba_67cc_11ec_a6b7_0242ac1c0002level0_row1\" class=\"row_heading level0 row1\" >male</th>\n",
              "                        <td id=\"T_72a7ccba_67cc_11ec_a6b7_0242ac1c0002row1_col0\" class=\"data row1 col0\" >1</td>\n",
              "                        <td id=\"T_72a7ccba_67cc_11ec_a6b7_0242ac1c0002row1_col1\" class=\"data row1 col1\" >2</td>\n",
              "                        <td id=\"T_72a7ccba_67cc_11ec_a6b7_0242ac1c0002row1_col2\" class=\"data row1 col2\" >0</td>\n",
              "                        <td id=\"T_72a7ccba_67cc_11ec_a6b7_0242ac1c0002row1_col3\" class=\"data row1 col3\" >1</td>\n",
              "                        <td id=\"T_72a7ccba_67cc_11ec_a6b7_0242ac1c0002row1_col4\" class=\"data row1 col4\" >6</td>\n",
              "                        <td id=\"T_72a7ccba_67cc_11ec_a6b7_0242ac1c0002row1_col5\" class=\"data row1 col5\" >1</td>\n",
              "                        <td id=\"T_72a7ccba_67cc_11ec_a6b7_0242ac1c0002row1_col6\" class=\"data row1 col6\" >0</td>\n",
              "                        <td id=\"T_72a7ccba_67cc_11ec_a6b7_0242ac1c0002row1_col7\" class=\"data row1 col7\" >2</td>\n",
              "                        <td id=\"T_72a7ccba_67cc_11ec_a6b7_0242ac1c0002row1_col8\" class=\"data row1 col8\" >40</td>\n",
              "                        <td id=\"T_72a7ccba_67cc_11ec_a6b7_0242ac1c0002row1_col9\" class=\"data row1 col9\" >0</td>\n",
              "                        <td id=\"T_72a7ccba_67cc_11ec_a6b7_0242ac1c0002row1_col10\" class=\"data row1 col10\" >0</td>\n",
              "                        <td id=\"T_72a7ccba_67cc_11ec_a6b7_0242ac1c0002row1_col11\" class=\"data row1 col11\" >0</td>\n",
              "                        <td id=\"T_72a7ccba_67cc_11ec_a6b7_0242ac1c0002row1_col12\" class=\"data row1 col12\" >517</td>\n",
              "                        <td id=\"T_72a7ccba_67cc_11ec_a6b7_0242ac1c0002row1_col13\" class=\"data row1 col13\" >0</td>\n",
              "                        <td id=\"T_72a7ccba_67cc_11ec_a6b7_0242ac1c0002row1_col14\" class=\"data row1 col14\" >0</td>\n",
              "                        <td id=\"T_72a7ccba_67cc_11ec_a6b7_0242ac1c0002row1_col15\" class=\"data row1 col15\" >6</td>\n",
              "                        <td id=\"T_72a7ccba_67cc_11ec_a6b7_0242ac1c0002row1_col16\" class=\"data row1 col16\" >1</td>\n",
              "            </tr>\n",
              "    </tbody></table>"
            ],
            "text/plain": [
              "<pandas.io.formats.style.Styler at 0x7f8687699750>"
            ]
          },
          "metadata": {},
          "execution_count": 62
        }
      ]
    },
    {
      "cell_type": "markdown",
      "source": [
        "Mille, Mme과 같이 잘못 적힌 이니셜이 있습니다. 이는 Miss에 대응돼야 합니다. 이러한 경우를 Miss처럼 올바르게 대응시켜 주겠습니다."
      ],
      "metadata": {
        "id": "X-TnHXOzrNML"
      }
    },
    {
      "cell_type": "code",
      "source": [
        "data['Initial'].replace(['Mlle', 'Mme', 'Ms', 'Dr', 'Major', 'Lady', 'Countess', 'Jonkheer', 'Col', 'Rev', 'Capt', 'Sir', 'Don'], ['Miss', 'Miss', 'Miss', 'Mr', 'Mr', 'Mrs', 'Mrs', 'Other', 'Other', 'Other', 'Mr', 'Mr', 'Mr'], inplace=True)"
      ],
      "metadata": {
        "id": "Scr3iPhNrpYa"
      },
      "execution_count": 65,
      "outputs": []
    },
    {
      "cell_type": "code",
      "source": [
        "data.groupby('Initial')['Age'].mean() # Initial에 따른 평균 나이대 확인"
      ],
      "metadata": {
        "colab": {
          "base_uri": "https://localhost:8080/"
        },
        "id": "7takYp0qsHay",
        "outputId": "96b4a7c6-76a6-4b87-93f1-36b16c0ee860"
      },
      "execution_count": 67,
      "outputs": [
        {
          "output_type": "execute_result",
          "data": {
            "text/plain": [
              "Initial\n",
              "Master     4.574167\n",
              "Miss      21.860000\n",
              "Mr        32.739609\n",
              "Mrs       35.981818\n",
              "Other     45.888889\n",
              "Name: Age, dtype: float64"
            ]
          },
          "metadata": {},
          "execution_count": 67
        }
      ]
    },
    {
      "cell_type": "markdown",
      "source": [
        "**Filling NaN Ages**"
      ],
      "metadata": {
        "id": "bj9svdKSsc_4"
      }
    },
    {
      "cell_type": "code",
      "source": [
        "## Assigning the NaN Values with the Ceil values of the mean ages\n",
        "data.loc[(data.Age.isnull()) & (data.Initial=='Mr'), 'Age'] = 33\n",
        "data.loc[(data.Age.isnull()) & (data.Initial=='Mrs'), 'Age'] = 36\n",
        "data.loc[(data.Age.isnull()) & (data.Initial=='Master'), 'Age'] = 5\n",
        "data.loc[(data.Age.isnull()) & (data.Initial=='Miss'), 'Age'] = 22\n",
        "data.loc[(data.Age.isnull()) & (data.Initial=='Other'), 'Age'] = 46"
      ],
      "metadata": {
        "id": "cdbCsGZKslGx"
      },
      "execution_count": 68,
      "outputs": []
    },
    {
      "cell_type": "code",
      "source": [
        "data.Age.isnull().any()"
      ],
      "metadata": {
        "colab": {
          "base_uri": "https://localhost:8080/"
        },
        "id": "e1t_x8I1s9wA",
        "outputId": "3a190c16-1111-4231-f8c5-09686efed44e"
      },
      "execution_count": 69,
      "outputs": [
        {
          "output_type": "execute_result",
          "data": {
            "text/plain": [
              "False"
            ]
          },
          "metadata": {},
          "execution_count": 69
        }
      ]
    },
    {
      "cell_type": "markdown",
      "source": [
        "Age Feature에 대한 null data가 모두 제거되었습니다."
      ],
      "metadata": {
        "id": "d0o_hIkMtDnh"
      }
    },
    {
      "cell_type": "code",
      "source": [
        "f, ax = plt.subplots(1, 2, figsize=(20, 10))\n",
        "data[data['Survived']==0].Age.plot.hist(ax=ax[0], bins=20, edgecolor='black', color='red')\n",
        "ax[0].set_title('Survived = 0')\n",
        "x1 = list(range(0, 85, 5))\n",
        "ax[0].set_xticks(x1)\n",
        "\n",
        "data[data['Survived']==1].Age.plot.hist(ax=ax[1], color='green', bins=20, edgecolor='black')\n",
        "ax[1].set_title('Survived = 1')\n",
        "x2 = list(range(0, 85, 5))\n",
        "ax[1].set_xticks(x2)\n",
        "\n",
        "plt.show()"
      ],
      "metadata": {
        "colab": {
          "base_uri": "https://localhost:8080/",
          "height": 393
        },
        "id": "LpwKHpNwtBBw",
        "outputId": "f5a8e58a-a763-4b3e-c0bf-57f7dfb32a76"
      },
      "execution_count": 70,
      "outputs": [
        {
          "output_type": "display_data",
          "data": {
            "image/png": "[encoded data removed]",
            "text/plain": [
              "<Figure size 1440x720 with 2 Axes>"
            ]
          },
          "metadata": {
            "needs_background": "light"
          }
        }
      ]
    },
    {
      "cell_type": "markdown",
      "source": [
        "**논평:**  \n",
        "1) Toddlers (나이 5세 미만)은 매우 많은 수가 생존했습니다. (여성, 아이 우대 정책에 의해).  \n",
        "2) 나이가 가장 많은 승객은 생존했습니다. (80살)  \n",
        "3) 가장 많은 수가 사망한 나이대는 30-40입니다."
      ],
      "metadata": {
        "id": "KC94GT0jt498"
      }
    },
    {
      "cell_type": "code",
      "source": [
        "sns.factorplot('Pclass', 'Survived', col='Initial', data=data)\n",
        "plt.show()"
      ],
      "metadata": {
        "colab": {
          "base_uri": "https://localhost:8080/",
          "height": 181
        },
        "id": "1wi-b6eouVGw",
        "outputId": "ad5af647-00df-4e59-e3ee-b3d1133d2a26"
      },
      "execution_count": 71,
      "outputs": [
        {
          "output_type": "display_data",
          "data": {
            "image/png": "[encoded data removed]",
            "text/plain": [
              "<Figure size 1800x360 with 5 Axes>"
            ]
          },
          "metadata": {
            "needs_background": "light"
          }
        }
      ]
    },
    {
      "cell_type": "markdown",
      "source": [
        "class에 상관 없이 여성, 아이 우대 정책은 유효합니다."
      ],
      "metadata": {
        "id": "0LVdurcCuZ-R"
      }
    },
    {
      "cell_type": "markdown",
      "source": [
        "### Embarked -> Categorical Value"
      ],
      "metadata": {
        "id": "OjW8OYyMuuUA"
      }
    },
    {
      "cell_type": "code",
      "source": [
        "pd.crosstab([data.Embarked, data.Pclass], [data.Sex, data.Survived], margins=True).style.background_gradient(cmap='summer_r')"
      ],
      "metadata": {
        "colab": {
          "base_uri": "https://localhost:8080/",
          "height": 426
        },
        "id": "CAF8uSZcuxfI",
        "outputId": "ff8140c5-a892-4a58-a1e6-e07b0b229c43"
      },
      "execution_count": 73,
      "outputs": [
        {
          "output_type": "execute_result",
          "data": {
            "text/html": [
              "<style  type=\"text/css\" >\n",
              "#T_c437a3f0_67ce_11ec_a6b7_0242ac1c0002row0_col0,#T_c437a3f0_67ce_11ec_a6b7_0242ac1c0002row1_col2{\n",
              "            background-color:  #fcfe66;\n",
              "            color:  #000000;\n",
              "        }#T_c437a3f0_67ce_11ec_a6b7_0242ac1c0002row0_col1{\n",
              "            background-color:  #d2e866;\n",
              "            color:  #000000;\n",
              "        }#T_c437a3f0_67ce_11ec_a6b7_0242ac1c0002row0_col2{\n",
              "            background-color:  #f2f866;\n",
              "            color:  #000000;\n",
              "        }#T_c437a3f0_67ce_11ec_a6b7_0242ac1c0002row0_col3{\n",
              "            background-color:  #d8ec66;\n",
              "            color:  #000000;\n",
              "        }#T_c437a3f0_67ce_11ec_a6b7_0242ac1c0002row0_col4,#T_c437a3f0_67ce_11ec_a6b7_0242ac1c0002row2_col3{\n",
              "            background-color:  #e8f466;\n",
              "            color:  #000000;\n",
              "        }#T_c437a3f0_67ce_11ec_a6b7_0242ac1c0002row1_col0,#T_c437a3f0_67ce_11ec_a6b7_0242ac1c0002row3_col0,#T_c437a3f0_67ce_11ec_a6b7_0242ac1c0002row3_col1,#T_c437a3f0_67ce_11ec_a6b7_0242ac1c0002row3_col2,#T_c437a3f0_67ce_11ec_a6b7_0242ac1c0002row3_col3,#T_c437a3f0_67ce_11ec_a6b7_0242ac1c0002row3_col4,#T_c437a3f0_67ce_11ec_a6b7_0242ac1c0002row4_col0,#T_c437a3f0_67ce_11ec_a6b7_0242ac1c0002row4_col2,#T_c437a3f0_67ce_11ec_a6b7_0242ac1c0002row4_col3,#T_c437a3f0_67ce_11ec_a6b7_0242ac1c0002row4_col4{\n",
              "            background-color:  #ffff66;\n",
              "            color:  #000000;\n",
              "        }#T_c437a3f0_67ce_11ec_a6b7_0242ac1c0002row1_col1,#T_c437a3f0_67ce_11ec_a6b7_0242ac1c0002row6_col0{\n",
              "            background-color:  #f9fc66;\n",
              "            color:  #000000;\n",
              "        }#T_c437a3f0_67ce_11ec_a6b7_0242ac1c0002row1_col3,#T_c437a3f0_67ce_11ec_a6b7_0242ac1c0002row1_col4{\n",
              "            background-color:  #fbfd66;\n",
              "            color:  #000000;\n",
              "        }#T_c437a3f0_67ce_11ec_a6b7_0242ac1c0002row2_col0,#T_c437a3f0_67ce_11ec_a6b7_0242ac1c0002row5_col1{\n",
              "            background-color:  #e6f266;\n",
              "            color:  #000000;\n",
              "        }#T_c437a3f0_67ce_11ec_a6b7_0242ac1c0002row2_col1{\n",
              "            background-color:  #f0f866;\n",
              "            color:  #000000;\n",
              "        }#T_c437a3f0_67ce_11ec_a6b7_0242ac1c0002row2_col2{\n",
              "            background-color:  #eef666;\n",
              "            color:  #000000;\n",
              "        }#T_c437a3f0_67ce_11ec_a6b7_0242ac1c0002row2_col4,#T_c437a3f0_67ce_11ec_a6b7_0242ac1c0002row7_col0{\n",
              "            background-color:  #edf666;\n",
              "            color:  #000000;\n",
              "        }#T_c437a3f0_67ce_11ec_a6b7_0242ac1c0002row4_col1{\n",
              "            background-color:  #fefe66;\n",
              "            color:  #000000;\n",
              "        }#T_c437a3f0_67ce_11ec_a6b7_0242ac1c0002row5_col0{\n",
              "            background-color:  #e3f166;\n",
              "            color:  #000000;\n",
              "        }#T_c437a3f0_67ce_11ec_a6b7_0242ac1c0002row5_col2{\n",
              "            background-color:  #ecf666;\n",
              "            color:  #000000;\n",
              "        }#T_c437a3f0_67ce_11ec_a6b7_0242ac1c0002row5_col3{\n",
              "            background-color:  #f8fc66;\n",
              "            color:  #000000;\n",
              "        }#T_c437a3f0_67ce_11ec_a6b7_0242ac1c0002row5_col4{\n",
              "            background-color:  #ebf566;\n",
              "            color:  #000000;\n",
              "        }#T_c437a3f0_67ce_11ec_a6b7_0242ac1c0002row6_col1{\n",
              "            background-color:  #cde666;\n",
              "            color:  #000000;\n",
              "        }#T_c437a3f0_67ce_11ec_a6b7_0242ac1c0002row6_col2{\n",
              "            background-color:  #e4f266;\n",
              "            color:  #000000;\n",
              "        }#T_c437a3f0_67ce_11ec_a6b7_0242ac1c0002row6_col3{\n",
              "            background-color:  #bede66;\n",
              "            color:  #000000;\n",
              "        }#T_c437a3f0_67ce_11ec_a6b7_0242ac1c0002row6_col4{\n",
              "            background-color:  #dbed66;\n",
              "            color:  #000000;\n",
              "        }#T_c437a3f0_67ce_11ec_a6b7_0242ac1c0002row7_col1{\n",
              "            background-color:  #bdde66;\n",
              "            color:  #000000;\n",
              "        }#T_c437a3f0_67ce_11ec_a6b7_0242ac1c0002row7_col2{\n",
              "            background-color:  #d3e966;\n",
              "            color:  #000000;\n",
              "        }#T_c437a3f0_67ce_11ec_a6b7_0242ac1c0002row7_col3,#T_c437a3f0_67ce_11ec_a6b7_0242ac1c0002row8_col1{\n",
              "            background-color:  #dcee66;\n",
              "            color:  #000000;\n",
              "        }#T_c437a3f0_67ce_11ec_a6b7_0242ac1c0002row7_col4{\n",
              "            background-color:  #d1e866;\n",
              "            color:  #000000;\n",
              "        }#T_c437a3f0_67ce_11ec_a6b7_0242ac1c0002row8_col0{\n",
              "            background-color:  #52a866;\n",
              "            color:  #000000;\n",
              "        }#T_c437a3f0_67ce_11ec_a6b7_0242ac1c0002row8_col2{\n",
              "            background-color:  #81c066;\n",
              "            color:  #000000;\n",
              "        }#T_c437a3f0_67ce_11ec_a6b7_0242ac1c0002row8_col3{\n",
              "            background-color:  #b0d866;\n",
              "            color:  #000000;\n",
              "        }#T_c437a3f0_67ce_11ec_a6b7_0242ac1c0002row8_col4{\n",
              "            background-color:  #9acc66;\n",
              "            color:  #000000;\n",
              "        }#T_c437a3f0_67ce_11ec_a6b7_0242ac1c0002row9_col0,#T_c437a3f0_67ce_11ec_a6b7_0242ac1c0002row9_col1,#T_c437a3f0_67ce_11ec_a6b7_0242ac1c0002row9_col2,#T_c437a3f0_67ce_11ec_a6b7_0242ac1c0002row9_col3,#T_c437a3f0_67ce_11ec_a6b7_0242ac1c0002row9_col4{\n",
              "            background-color:  #008066;\n",
              "            color:  #f1f1f1;\n",
              "        }</style><table id=\"T_c437a3f0_67ce_11ec_a6b7_0242ac1c0002\" class=\"dataframe\"><thead>    <tr>        <th class=\"blank\" ></th>        <th class=\"index_name level0\" >Sex</th>        <th class=\"col_heading level0 col0\" colspan=2>female</th>        <th class=\"col_heading level0 col2\" colspan=2>male</th>        <th class=\"col_heading level0 col4\" >All</th>    </tr>    <tr>        <th class=\"blank\" ></th>        <th class=\"index_name level1\" >Survived</th>        <th class=\"col_heading level1 col0\" >0</th>        <th class=\"col_heading level1 col1\" >1</th>        <th class=\"col_heading level1 col2\" >0</th>        <th class=\"col_heading level1 col3\" >1</th>        <th class=\"col_heading level1 col4\" ></th>    </tr>    <tr>        <th class=\"index_name level0\" >Embarked</th>        <th class=\"index_name level1\" >Pclass</th>        <th class=\"blank\" ></th>        <th class=\"blank\" ></th>        <th class=\"blank\" ></th>        <th class=\"blank\" ></th>        <th class=\"blank\" ></th>    </tr></thead><tbody>\n",
              "                <tr>\n",
              "                        <th id=\"T_c437a3f0_67ce_11ec_a6b7_0242ac1c0002level0_row0\" class=\"row_heading level0 row0\" rowspan=3>C</th>\n",
              "                        <th id=\"T_c437a3f0_67ce_11ec_a6b7_0242ac1c0002level1_row0\" class=\"row_heading level1 row0\" >1</th>\n",
              "                        <td id=\"T_c437a3f0_67ce_11ec_a6b7_0242ac1c0002row0_col0\" class=\"data row0 col0\" >1</td>\n",
              "                        <td id=\"T_c437a3f0_67ce_11ec_a6b7_0242ac1c0002row0_col1\" class=\"data row0 col1\" >42</td>\n",
              "                        <td id=\"T_c437a3f0_67ce_11ec_a6b7_0242ac1c0002row0_col2\" class=\"data row0 col2\" >25</td>\n",
              "                        <td id=\"T_c437a3f0_67ce_11ec_a6b7_0242ac1c0002row0_col3\" class=\"data row0 col3\" >17</td>\n",
              "                        <td id=\"T_c437a3f0_67ce_11ec_a6b7_0242ac1c0002row0_col4\" class=\"data row0 col4\" >85</td>\n",
              "            </tr>\n",
              "            <tr>\n",
              "                                <th id=\"T_c437a3f0_67ce_11ec_a6b7_0242ac1c0002level1_row1\" class=\"row_heading level1 row1\" >2</th>\n",
              "                        <td id=\"T_c437a3f0_67ce_11ec_a6b7_0242ac1c0002row1_col0\" class=\"data row1 col0\" >0</td>\n",
              "                        <td id=\"T_c437a3f0_67ce_11ec_a6b7_0242ac1c0002row1_col1\" class=\"data row1 col1\" >7</td>\n",
              "                        <td id=\"T_c437a3f0_67ce_11ec_a6b7_0242ac1c0002row1_col2\" class=\"data row1 col2\" >8</td>\n",
              "                        <td id=\"T_c437a3f0_67ce_11ec_a6b7_0242ac1c0002row1_col3\" class=\"data row1 col3\" >2</td>\n",
              "                        <td id=\"T_c437a3f0_67ce_11ec_a6b7_0242ac1c0002row1_col4\" class=\"data row1 col4\" >17</td>\n",
              "            </tr>\n",
              "            <tr>\n",
              "                                <th id=\"T_c437a3f0_67ce_11ec_a6b7_0242ac1c0002level1_row2\" class=\"row_heading level1 row2\" >3</th>\n",
              "                        <td id=\"T_c437a3f0_67ce_11ec_a6b7_0242ac1c0002row2_col0\" class=\"data row2 col0\" >8</td>\n",
              "                        <td id=\"T_c437a3f0_67ce_11ec_a6b7_0242ac1c0002row2_col1\" class=\"data row2 col1\" >15</td>\n",
              "                        <td id=\"T_c437a3f0_67ce_11ec_a6b7_0242ac1c0002row2_col2\" class=\"data row2 col2\" >33</td>\n",
              "                        <td id=\"T_c437a3f0_67ce_11ec_a6b7_0242ac1c0002row2_col3\" class=\"data row2 col3\" >10</td>\n",
              "                        <td id=\"T_c437a3f0_67ce_11ec_a6b7_0242ac1c0002row2_col4\" class=\"data row2 col4\" >66</td>\n",
              "            </tr>\n",
              "            <tr>\n",
              "                        <th id=\"T_c437a3f0_67ce_11ec_a6b7_0242ac1c0002level0_row3\" class=\"row_heading level0 row3\" rowspan=3>Q</th>\n",
              "                        <th id=\"T_c437a3f0_67ce_11ec_a6b7_0242ac1c0002level1_row3\" class=\"row_heading level1 row3\" >1</th>\n",
              "                        <td id=\"T_c437a3f0_67ce_11ec_a6b7_0242ac1c0002row3_col0\" class=\"data row3 col0\" >0</td>\n",
              "                        <td id=\"T_c437a3f0_67ce_11ec_a6b7_0242ac1c0002row3_col1\" class=\"data row3 col1\" >1</td>\n",
              "                        <td id=\"T_c437a3f0_67ce_11ec_a6b7_0242ac1c0002row3_col2\" class=\"data row3 col2\" >1</td>\n",
              "                        <td id=\"T_c437a3f0_67ce_11ec_a6b7_0242ac1c0002row3_col3\" class=\"data row3 col3\" >0</td>\n",
              "                        <td id=\"T_c437a3f0_67ce_11ec_a6b7_0242ac1c0002row3_col4\" class=\"data row3 col4\" >2</td>\n",
              "            </tr>\n",
              "            <tr>\n",
              "                                <th id=\"T_c437a3f0_67ce_11ec_a6b7_0242ac1c0002level1_row4\" class=\"row_heading level1 row4\" >2</th>\n",
              "                        <td id=\"T_c437a3f0_67ce_11ec_a6b7_0242ac1c0002row4_col0\" class=\"data row4 col0\" >0</td>\n",
              "                        <td id=\"T_c437a3f0_67ce_11ec_a6b7_0242ac1c0002row4_col1\" class=\"data row4 col1\" >2</td>\n",
              "                        <td id=\"T_c437a3f0_67ce_11ec_a6b7_0242ac1c0002row4_col2\" class=\"data row4 col2\" >1</td>\n",
              "                        <td id=\"T_c437a3f0_67ce_11ec_a6b7_0242ac1c0002row4_col3\" class=\"data row4 col3\" >0</td>\n",
              "                        <td id=\"T_c437a3f0_67ce_11ec_a6b7_0242ac1c0002row4_col4\" class=\"data row4 col4\" >3</td>\n",
              "            </tr>\n",
              "            <tr>\n",
              "                                <th id=\"T_c437a3f0_67ce_11ec_a6b7_0242ac1c0002level1_row5\" class=\"row_heading level1 row5\" >3</th>\n",
              "                        <td id=\"T_c437a3f0_67ce_11ec_a6b7_0242ac1c0002row5_col0\" class=\"data row5 col0\" >9</td>\n",
              "                        <td id=\"T_c437a3f0_67ce_11ec_a6b7_0242ac1c0002row5_col1\" class=\"data row5 col1\" >24</td>\n",
              "                        <td id=\"T_c437a3f0_67ce_11ec_a6b7_0242ac1c0002row5_col2\" class=\"data row5 col2\" >36</td>\n",
              "                        <td id=\"T_c437a3f0_67ce_11ec_a6b7_0242ac1c0002row5_col3\" class=\"data row5 col3\" >3</td>\n",
              "                        <td id=\"T_c437a3f0_67ce_11ec_a6b7_0242ac1c0002row5_col4\" class=\"data row5 col4\" >72</td>\n",
              "            </tr>\n",
              "            <tr>\n",
              "                        <th id=\"T_c437a3f0_67ce_11ec_a6b7_0242ac1c0002level0_row6\" class=\"row_heading level0 row6\" rowspan=3>S</th>\n",
              "                        <th id=\"T_c437a3f0_67ce_11ec_a6b7_0242ac1c0002level1_row6\" class=\"row_heading level1 row6\" >1</th>\n",
              "                        <td id=\"T_c437a3f0_67ce_11ec_a6b7_0242ac1c0002row6_col0\" class=\"data row6 col0\" >2</td>\n",
              "                        <td id=\"T_c437a3f0_67ce_11ec_a6b7_0242ac1c0002row6_col1\" class=\"data row6 col1\" >46</td>\n",
              "                        <td id=\"T_c437a3f0_67ce_11ec_a6b7_0242ac1c0002row6_col2\" class=\"data row6 col2\" >51</td>\n",
              "                        <td id=\"T_c437a3f0_67ce_11ec_a6b7_0242ac1c0002row6_col3\" class=\"data row6 col3\" >28</td>\n",
              "                        <td id=\"T_c437a3f0_67ce_11ec_a6b7_0242ac1c0002row6_col4\" class=\"data row6 col4\" >127</td>\n",
              "            </tr>\n",
              "            <tr>\n",
              "                                <th id=\"T_c437a3f0_67ce_11ec_a6b7_0242ac1c0002level1_row7\" class=\"row_heading level1 row7\" >2</th>\n",
              "                        <td id=\"T_c437a3f0_67ce_11ec_a6b7_0242ac1c0002row7_col0\" class=\"data row7 col0\" >6</td>\n",
              "                        <td id=\"T_c437a3f0_67ce_11ec_a6b7_0242ac1c0002row7_col1\" class=\"data row7 col1\" >61</td>\n",
              "                        <td id=\"T_c437a3f0_67ce_11ec_a6b7_0242ac1c0002row7_col2\" class=\"data row7 col2\" >82</td>\n",
              "                        <td id=\"T_c437a3f0_67ce_11ec_a6b7_0242ac1c0002row7_col3\" class=\"data row7 col3\" >15</td>\n",
              "                        <td id=\"T_c437a3f0_67ce_11ec_a6b7_0242ac1c0002row7_col4\" class=\"data row7 col4\" >164</td>\n",
              "            </tr>\n",
              "            <tr>\n",
              "                                <th id=\"T_c437a3f0_67ce_11ec_a6b7_0242ac1c0002level1_row8\" class=\"row_heading level1 row8\" >3</th>\n",
              "                        <td id=\"T_c437a3f0_67ce_11ec_a6b7_0242ac1c0002row8_col0\" class=\"data row8 col0\" >55</td>\n",
              "                        <td id=\"T_c437a3f0_67ce_11ec_a6b7_0242ac1c0002row8_col1\" class=\"data row8 col1\" >33</td>\n",
              "                        <td id=\"T_c437a3f0_67ce_11ec_a6b7_0242ac1c0002row8_col2\" class=\"data row8 col2\" >231</td>\n",
              "                        <td id=\"T_c437a3f0_67ce_11ec_a6b7_0242ac1c0002row8_col3\" class=\"data row8 col3\" >34</td>\n",
              "                        <td id=\"T_c437a3f0_67ce_11ec_a6b7_0242ac1c0002row8_col4\" class=\"data row8 col4\" >353</td>\n",
              "            </tr>\n",
              "            <tr>\n",
              "                        <th id=\"T_c437a3f0_67ce_11ec_a6b7_0242ac1c0002level0_row9\" class=\"row_heading level0 row9\" >All</th>\n",
              "                        <th id=\"T_c437a3f0_67ce_11ec_a6b7_0242ac1c0002level1_row9\" class=\"row_heading level1 row9\" ></th>\n",
              "                        <td id=\"T_c437a3f0_67ce_11ec_a6b7_0242ac1c0002row9_col0\" class=\"data row9 col0\" >81</td>\n",
              "                        <td id=\"T_c437a3f0_67ce_11ec_a6b7_0242ac1c0002row9_col1\" class=\"data row9 col1\" >231</td>\n",
              "                        <td id=\"T_c437a3f0_67ce_11ec_a6b7_0242ac1c0002row9_col2\" class=\"data row9 col2\" >468</td>\n",
              "                        <td id=\"T_c437a3f0_67ce_11ec_a6b7_0242ac1c0002row9_col3\" class=\"data row9 col3\" >109</td>\n",
              "                        <td id=\"T_c437a3f0_67ce_11ec_a6b7_0242ac1c0002row9_col4\" class=\"data row9 col4\" >889</td>\n",
              "            </tr>\n",
              "    </tbody></table>"
            ],
            "text/plain": [
              "<pandas.io.formats.style.Styler at 0x7f86924db210>"
            ]
          },
          "metadata": {},
          "execution_count": 73
        }
      ]
    },
    {
      "cell_type": "markdown",
      "source": [
        "**Chances for Survival by Port Of Embarkation**"
      ],
      "metadata": {
        "id": "gHMONjoOu9KH"
      }
    },
    {
      "cell_type": "code",
      "source": [
        "sns.factorplot('Embarked', 'Survived', data=data)\n",
        "fig = plt.gcf()\n",
        "fig.set_size_inches(5, 3)\n",
        "plt.show()"
      ],
      "metadata": {
        "colab": {
          "base_uri": "https://localhost:8080/",
          "height": 246
        },
        "id": "uT-JpxiyvFu3",
        "outputId": "74fd9587-c249-4c8f-fc91-f171b33af9f4"
      },
      "execution_count": 76,
      "outputs": [
        {
          "output_type": "display_data",
          "data": {
            "image/png": "[encoded data removed]",
            "text/plain": [
              "<Figure size 360x216 with 1 Axes>"
            ]
          },
          "metadata": {
            "needs_background": "light"
          }
        }
      ]
    },
    {
      "cell_type": "markdown",
      "source": [
        "Port C의 생존 기회는 0.55 정도로 가장 높은 반면 S는 가장 낮았습니다."
      ],
      "metadata": {
        "id": "jxk6nZWQvSAo"
      }
    },
    {
      "cell_type": "code",
      "source": [
        "f, ax = plt.subplots(2, 2, figsize=(20, 15))\n",
        "sns.countplot('Embarked', data=data, ax=ax[0, 0])\n",
        "ax[0, 0].set_title('No. Of Passengers Boarded')\n",
        "\n",
        "sns.countplot('Embarked', hue='Sex', data=data, ax=ax[0, 1])\n",
        "ax[0, 1].set_title('Male-Female Split for Embarked')\n",
        "\n",
        "sns.countplot('Embarked', hue = 'Survived', data=data, ax=ax[1, 0])\n",
        "ax[1, 0].set_title('Embarked vs Survived')\n",
        "\n",
        "sns.countplot('Embarked', hue = 'Pclass', data=data, ax=ax[1, 1])\n",
        "ax[1, 1].set_title('Embarked vs Pclass')\n",
        "\n",
        "# plt.subplots_adjust(wspace=0.2, hspace=0.5)\n",
        "plt.show()"
      ],
      "metadata": {
        "colab": {
          "base_uri": "https://localhost:8080/",
          "height": 578
        },
        "id": "DUCTk6NDGyCz",
        "outputId": "e561368d-3acf-4e3c-a725-ad5e0252cfd8"
      },
      "execution_count": 80,
      "outputs": [
        {
          "output_type": "display_data",
          "data": {
            "image/png": "[encoded data removed]",
            "text/plain": [
              "<Figure size 1440x1080 with 4 Axes>"
            ]
          },
          "metadata": {
            "needs_background": "light"
          }
        }
      ]
    },
    {
      "cell_type": "markdown",
      "source": [
        "**논평:**  \n",
        "1) S 항구에서 가장 많은 승객이 탑승했습니다. 이 중 대다수는 Pclass3 입니다.  \n",
        "2) C에서 온 승객들은 운이 좋아 보입니다. 생존률 중 좋은 비율을 차지하고 있기 때문입니다. 이러한 이유는 아마도 Pclass1과 Pclass2 승객들이 구조됐기 때문입니다.  \n",
        "3) S 항구는 대다수의 부자들이 탑승한 것으로 보입니다. 반면 이 곳의 생존률은 낮았는데, 그 이유는 Pclass3의 거의 **81%**가 생존하지 못했기 때문입니다.  \n",
        "4) Q 항구는 거의 95%의 승객이 Pclass3입니다."
      ],
      "metadata": {
        "id": "xvprYihFG0p0"
      }
    },
    {
      "cell_type": "code",
      "source": [
        "sns.factorplot('Pclass', 'Survived', hue='Sex', col='Embarked', data=data)\n",
        "plt.show()"
      ],
      "metadata": {
        "colab": {
          "base_uri": "https://localhost:8080/",
          "height": 274
        },
        "id": "N3ADd-IYIT9D",
        "outputId": "dbca955c-59bb-4f6f-d1e4-7a462bcec25a"
      },
      "execution_count": 81,
      "outputs": [
        {
          "output_type": "display_data",
          "data": {
            "image/png": "[encoded data removed]",
            "text/plain": [
              "<Figure size 1150.5x360 with 3 Axes>"
            ]
          },
          "metadata": {
            "needs_background": "light"
          }
        }
      ]
    },
    {
      "cell_type": "markdown",
      "source": [
        "**논평:**  \n",
        "1) 생존 확률은 거의 1입니다. Pclass1 과 Pclass2의 여자들의 경우. Embarked에 상관 없이.  \n",
        "2) S항구의 Pclass3 승객은 운이 매우 좋지 않은 듯 합니다. 여자와 남자의 생존률이 매우 낮았기 때문입니다.  \n",
        "3) Q 항구의 남자들은 매우 운이 안좋아 보입니다. 이들 중 대부분은 Pclass3입니다."
      ],
      "metadata": {
        "id": "fUwJESqTIc40"
      }
    },
    {
      "cell_type": "markdown",
      "source": [
        "**Filling Embarked NaN**  \n",
        "가장 많은 승객이 S 항구에서 탑승했기 때문에 S의 값으로 NaN 값을 대체하겠습니다."
      ],
      "metadata": {
        "id": "XW_RIfHwJZ2V"
      }
    },
    {
      "cell_type": "code",
      "source": [
        "data['Embarked'].head(5)"
      ],
      "metadata": {
        "colab": {
          "base_uri": "https://localhost:8080/"
        },
        "id": "RXdlWhSJJzu9",
        "outputId": "a019defa-e25a-447e-bd26-32af3ba7f6c8"
      },
      "execution_count": 84,
      "outputs": [
        {
          "output_type": "execute_result",
          "data": {
            "text/plain": [
              "0    S\n",
              "1    C\n",
              "2    S\n",
              "3    S\n",
              "4    S\n",
              "Name: Embarked, dtype: object"
            ]
          },
          "metadata": {},
          "execution_count": 84
        }
      ]
    },
    {
      "cell_type": "code",
      "source": [
        "data['Embarked'].fillna('S', inplace=True)"
      ],
      "metadata": {
        "id": "cVvguYI0Jl0M"
      },
      "execution_count": 85,
      "outputs": []
    },
    {
      "cell_type": "code",
      "source": [
        "data.Embarked.isnull().any()"
      ],
      "metadata": {
        "colab": {
          "base_uri": "https://localhost:8080/"
        },
        "id": "2_xwPUTVJ9oz",
        "outputId": "6a60ac13-8e5d-415b-ff6b-fdcc98aa9b40"
      },
      "execution_count": 86,
      "outputs": [
        {
          "output_type": "execute_result",
          "data": {
            "text/plain": [
              "False"
            ]
          },
          "metadata": {},
          "execution_count": 86
        }
      ]
    },
    {
      "cell_type": "markdown",
      "source": [
        "Embarked 컬럼의 null 값이 모두 대체됐습니다."
      ],
      "metadata": {
        "id": "PDQ6V5uQKBLT"
      }
    },
    {
      "cell_type": "markdown",
      "source": [
        "### SibSp -> Discrete Feature\n",
        "해당 피처는 어떤 사람이 혼자인지, 가족과 있는지를 나타냅니다.  \n",
        "Sibling = 형제, 자매, 새형재, 새자매  \n",
        "Spouse = 남편, 아내"
      ],
      "metadata": {
        "id": "8a0ER14CKEyt"
      }
    },
    {
      "cell_type": "code",
      "source": [
        "pd.crosstab([data.SibSp], data.Survived).style.background_gradient(cmap='summer_r')"
      ],
      "metadata": {
        "colab": {
          "base_uri": "https://localhost:8080/",
          "height": 300
        },
        "id": "wg8nVGtPKcV6",
        "outputId": "0c630d72-32d8-4b0f-c69f-13b0852a18b1"
      },
      "execution_count": 87,
      "outputs": [
        {
          "output_type": "execute_result",
          "data": {
            "text/html": [
              "<style  type=\"text/css\" >\n",
              "#T_9c03c9de_67df_11ec_a6b7_0242ac1c0002row0_col0,#T_9c03c9de_67df_11ec_a6b7_0242ac1c0002row0_col1{\n",
              "            background-color:  #008066;\n",
              "            color:  #f1f1f1;\n",
              "        }#T_9c03c9de_67df_11ec_a6b7_0242ac1c0002row1_col0{\n",
              "            background-color:  #c4e266;\n",
              "            color:  #000000;\n",
              "        }#T_9c03c9de_67df_11ec_a6b7_0242ac1c0002row1_col1{\n",
              "            background-color:  #77bb66;\n",
              "            color:  #000000;\n",
              "        }#T_9c03c9de_67df_11ec_a6b7_0242ac1c0002row2_col0,#T_9c03c9de_67df_11ec_a6b7_0242ac1c0002row4_col0{\n",
              "            background-color:  #f9fc66;\n",
              "            color:  #000000;\n",
              "        }#T_9c03c9de_67df_11ec_a6b7_0242ac1c0002row2_col1{\n",
              "            background-color:  #f0f866;\n",
              "            color:  #000000;\n",
              "        }#T_9c03c9de_67df_11ec_a6b7_0242ac1c0002row3_col0,#T_9c03c9de_67df_11ec_a6b7_0242ac1c0002row3_col1{\n",
              "            background-color:  #fbfd66;\n",
              "            color:  #000000;\n",
              "        }#T_9c03c9de_67df_11ec_a6b7_0242ac1c0002row4_col1{\n",
              "            background-color:  #fcfe66;\n",
              "            color:  #000000;\n",
              "        }#T_9c03c9de_67df_11ec_a6b7_0242ac1c0002row5_col0,#T_9c03c9de_67df_11ec_a6b7_0242ac1c0002row5_col1,#T_9c03c9de_67df_11ec_a6b7_0242ac1c0002row6_col1{\n",
              "            background-color:  #ffff66;\n",
              "            color:  #000000;\n",
              "        }#T_9c03c9de_67df_11ec_a6b7_0242ac1c0002row6_col0{\n",
              "            background-color:  #fefe66;\n",
              "            color:  #000000;\n",
              "        }</style><table id=\"T_9c03c9de_67df_11ec_a6b7_0242ac1c0002\" class=\"dataframe\"><thead>    <tr>        <th class=\"index_name level0\" >Survived</th>        <th class=\"col_heading level0 col0\" >0</th>        <th class=\"col_heading level0 col1\" >1</th>    </tr>    <tr>        <th class=\"index_name level0\" >SibSp</th>        <th class=\"blank\" ></th>        <th class=\"blank\" ></th>    </tr></thead><tbody>\n",
              "                <tr>\n",
              "                        <th id=\"T_9c03c9de_67df_11ec_a6b7_0242ac1c0002level0_row0\" class=\"row_heading level0 row0\" >0</th>\n",
              "                        <td id=\"T_9c03c9de_67df_11ec_a6b7_0242ac1c0002row0_col0\" class=\"data row0 col0\" >398</td>\n",
              "                        <td id=\"T_9c03c9de_67df_11ec_a6b7_0242ac1c0002row0_col1\" class=\"data row0 col1\" >210</td>\n",
              "            </tr>\n",
              "            <tr>\n",
              "                        <th id=\"T_9c03c9de_67df_11ec_a6b7_0242ac1c0002level0_row1\" class=\"row_heading level0 row1\" >1</th>\n",
              "                        <td id=\"T_9c03c9de_67df_11ec_a6b7_0242ac1c0002row1_col0\" class=\"data row1 col0\" >97</td>\n",
              "                        <td id=\"T_9c03c9de_67df_11ec_a6b7_0242ac1c0002row1_col1\" class=\"data row1 col1\" >112</td>\n",
              "            </tr>\n",
              "            <tr>\n",
              "                        <th id=\"T_9c03c9de_67df_11ec_a6b7_0242ac1c0002level0_row2\" class=\"row_heading level0 row2\" >2</th>\n",
              "                        <td id=\"T_9c03c9de_67df_11ec_a6b7_0242ac1c0002row2_col0\" class=\"data row2 col0\" >15</td>\n",
              "                        <td id=\"T_9c03c9de_67df_11ec_a6b7_0242ac1c0002row2_col1\" class=\"data row2 col1\" >13</td>\n",
              "            </tr>\n",
              "            <tr>\n",
              "                        <th id=\"T_9c03c9de_67df_11ec_a6b7_0242ac1c0002level0_row3\" class=\"row_heading level0 row3\" >3</th>\n",
              "                        <td id=\"T_9c03c9de_67df_11ec_a6b7_0242ac1c0002row3_col0\" class=\"data row3 col0\" >12</td>\n",
              "                        <td id=\"T_9c03c9de_67df_11ec_a6b7_0242ac1c0002row3_col1\" class=\"data row3 col1\" >4</td>\n",
              "            </tr>\n",
              "            <tr>\n",
              "                        <th id=\"T_9c03c9de_67df_11ec_a6b7_0242ac1c0002level0_row4\" class=\"row_heading level0 row4\" >4</th>\n",
              "                        <td id=\"T_9c03c9de_67df_11ec_a6b7_0242ac1c0002row4_col0\" class=\"data row4 col0\" >15</td>\n",
              "                        <td id=\"T_9c03c9de_67df_11ec_a6b7_0242ac1c0002row4_col1\" class=\"data row4 col1\" >3</td>\n",
              "            </tr>\n",
              "            <tr>\n",
              "                        <th id=\"T_9c03c9de_67df_11ec_a6b7_0242ac1c0002level0_row5\" class=\"row_heading level0 row5\" >5</th>\n",
              "                        <td id=\"T_9c03c9de_67df_11ec_a6b7_0242ac1c0002row5_col0\" class=\"data row5 col0\" >5</td>\n",
              "                        <td id=\"T_9c03c9de_67df_11ec_a6b7_0242ac1c0002row5_col1\" class=\"data row5 col1\" >0</td>\n",
              "            </tr>\n",
              "            <tr>\n",
              "                        <th id=\"T_9c03c9de_67df_11ec_a6b7_0242ac1c0002level0_row6\" class=\"row_heading level0 row6\" >8</th>\n",
              "                        <td id=\"T_9c03c9de_67df_11ec_a6b7_0242ac1c0002row6_col0\" class=\"data row6 col0\" >7</td>\n",
              "                        <td id=\"T_9c03c9de_67df_11ec_a6b7_0242ac1c0002row6_col1\" class=\"data row6 col1\" >0</td>\n",
              "            </tr>\n",
              "    </tbody></table>"
            ],
            "text/plain": [
              "<pandas.io.formats.style.Styler at 0x7f868732b710>"
            ]
          },
          "metadata": {},
          "execution_count": 87
        }
      ]
    },
    {
      "cell_type": "code",
      "source": [
        "f, ax = plt.subplots(1, 2, figsize=(20, 8))\n",
        "sns.barplot('SibSp', 'Survived', data=data, ax=ax[0])\n",
        "ax[0].set_title('SibSp vs Survived')\n",
        "\n",
        "sns.factorplot('SibSp', 'Survived', data=data, ax=ax[1])\n",
        "ax[1].set_title('SibSp vs Survived')\n",
        "# plt.close(0)\n",
        "plt.show()"
      ],
      "metadata": {
        "colab": {
          "base_uri": "https://localhost:8080/",
          "height": 685
        },
        "id": "ydPnr3gYKmbq",
        "outputId": "c06d1963-223e-4521-9948-ce099054ca29"
      },
      "execution_count": 98,
      "outputs": [
        {
          "output_type": "display_data",
          "data": {
            "image/png": "[encoded data removed]",
            "text/plain": [
              "<Figure size 1440x576 with 2 Axes>"
            ]
          },
          "metadata": {
            "needs_background": "light"
          }
        },
        {
          "output_type": "display_data",
          "data": {
            "image/png": "[encoded data removed]",
            "text/plain": [
              "<Figure size 360x360 with 1 Axes>"
            ]
          },
          "metadata": {
            "needs_background": "light"
          }
        }
      ]
    },
    {
      "cell_type": "code",
      "source": [
        "pd.crosstab(data.SibSp, data.Pclass).style.background_gradient(cmap='summer_r')"
      ],
      "metadata": {
        "colab": {
          "base_uri": "https://localhost:8080/",
          "height": 300
        },
        "id": "G4RkV66xK85D",
        "outputId": "eb0b9ee5-f7c4-40d8-c02a-54b217500979"
      },
      "execution_count": 99,
      "outputs": [
        {
          "output_type": "execute_result",
          "data": {
            "text/html": [
              "<style  type=\"text/css\" >\n",
              "#T_429b94b6_67e0_11ec_a6b7_0242ac1c0002row0_col0,#T_429b94b6_67e0_11ec_a6b7_0242ac1c0002row0_col1,#T_429b94b6_67e0_11ec_a6b7_0242ac1c0002row0_col2{\n",
              "            background-color:  #008066;\n",
              "            color:  #f1f1f1;\n",
              "        }#T_429b94b6_67e0_11ec_a6b7_0242ac1c0002row1_col0{\n",
              "            background-color:  #7bbd66;\n",
              "            color:  #000000;\n",
              "        }#T_429b94b6_67e0_11ec_a6b7_0242ac1c0002row1_col1{\n",
              "            background-color:  #8ac466;\n",
              "            color:  #000000;\n",
              "        }#T_429b94b6_67e0_11ec_a6b7_0242ac1c0002row1_col2{\n",
              "            background-color:  #c6e266;\n",
              "            color:  #000000;\n",
              "        }#T_429b94b6_67e0_11ec_a6b7_0242ac1c0002row2_col0,#T_429b94b6_67e0_11ec_a6b7_0242ac1c0002row4_col2{\n",
              "            background-color:  #f6fa66;\n",
              "            color:  #000000;\n",
              "        }#T_429b94b6_67e0_11ec_a6b7_0242ac1c0002row2_col1{\n",
              "            background-color:  #eef666;\n",
              "            color:  #000000;\n",
              "        }#T_429b94b6_67e0_11ec_a6b7_0242ac1c0002row2_col2{\n",
              "            background-color:  #f8fc66;\n",
              "            color:  #000000;\n",
              "        }#T_429b94b6_67e0_11ec_a6b7_0242ac1c0002row3_col0,#T_429b94b6_67e0_11ec_a6b7_0242ac1c0002row3_col2{\n",
              "            background-color:  #fafc66;\n",
              "            color:  #000000;\n",
              "        }#T_429b94b6_67e0_11ec_a6b7_0242ac1c0002row3_col1{\n",
              "            background-color:  #fdfe66;\n",
              "            color:  #000000;\n",
              "        }#T_429b94b6_67e0_11ec_a6b7_0242ac1c0002row4_col0,#T_429b94b6_67e0_11ec_a6b7_0242ac1c0002row4_col1,#T_429b94b6_67e0_11ec_a6b7_0242ac1c0002row5_col0,#T_429b94b6_67e0_11ec_a6b7_0242ac1c0002row5_col1,#T_429b94b6_67e0_11ec_a6b7_0242ac1c0002row5_col2,#T_429b94b6_67e0_11ec_a6b7_0242ac1c0002row6_col0,#T_429b94b6_67e0_11ec_a6b7_0242ac1c0002row6_col1{\n",
              "            background-color:  #ffff66;\n",
              "            color:  #000000;\n",
              "        }#T_429b94b6_67e0_11ec_a6b7_0242ac1c0002row6_col2{\n",
              "            background-color:  #fefe66;\n",
              "            color:  #000000;\n",
              "        }</style><table id=\"T_429b94b6_67e0_11ec_a6b7_0242ac1c0002\" class=\"dataframe\"><thead>    <tr>        <th class=\"index_name level0\" >Pclass</th>        <th class=\"col_heading level0 col0\" >1</th>        <th class=\"col_heading level0 col1\" >2</th>        <th class=\"col_heading level0 col2\" >3</th>    </tr>    <tr>        <th class=\"index_name level0\" >SibSp</th>        <th class=\"blank\" ></th>        <th class=\"blank\" ></th>        <th class=\"blank\" ></th>    </tr></thead><tbody>\n",
              "                <tr>\n",
              "                        <th id=\"T_429b94b6_67e0_11ec_a6b7_0242ac1c0002level0_row0\" class=\"row_heading level0 row0\" >0</th>\n",
              "                        <td id=\"T_429b94b6_67e0_11ec_a6b7_0242ac1c0002row0_col0\" class=\"data row0 col0\" >137</td>\n",
              "                        <td id=\"T_429b94b6_67e0_11ec_a6b7_0242ac1c0002row0_col1\" class=\"data row0 col1\" >120</td>\n",
              "                        <td id=\"T_429b94b6_67e0_11ec_a6b7_0242ac1c0002row0_col2\" class=\"data row0 col2\" >351</td>\n",
              "            </tr>\n",
              "            <tr>\n",
              "                        <th id=\"T_429b94b6_67e0_11ec_a6b7_0242ac1c0002level0_row1\" class=\"row_heading level0 row1\" >1</th>\n",
              "                        <td id=\"T_429b94b6_67e0_11ec_a6b7_0242ac1c0002row1_col0\" class=\"data row1 col0\" >71</td>\n",
              "                        <td id=\"T_429b94b6_67e0_11ec_a6b7_0242ac1c0002row1_col1\" class=\"data row1 col1\" >55</td>\n",
              "                        <td id=\"T_429b94b6_67e0_11ec_a6b7_0242ac1c0002row1_col2\" class=\"data row1 col2\" >83</td>\n",
              "            </tr>\n",
              "            <tr>\n",
              "                        <th id=\"T_429b94b6_67e0_11ec_a6b7_0242ac1c0002level0_row2\" class=\"row_heading level0 row2\" >2</th>\n",
              "                        <td id=\"T_429b94b6_67e0_11ec_a6b7_0242ac1c0002row2_col0\" class=\"data row2 col0\" >5</td>\n",
              "                        <td id=\"T_429b94b6_67e0_11ec_a6b7_0242ac1c0002row2_col1\" class=\"data row2 col1\" >8</td>\n",
              "                        <td id=\"T_429b94b6_67e0_11ec_a6b7_0242ac1c0002row2_col2\" class=\"data row2 col2\" >15</td>\n",
              "            </tr>\n",
              "            <tr>\n",
              "                        <th id=\"T_429b94b6_67e0_11ec_a6b7_0242ac1c0002level0_row3\" class=\"row_heading level0 row3\" >3</th>\n",
              "                        <td id=\"T_429b94b6_67e0_11ec_a6b7_0242ac1c0002row3_col0\" class=\"data row3 col0\" >3</td>\n",
              "                        <td id=\"T_429b94b6_67e0_11ec_a6b7_0242ac1c0002row3_col1\" class=\"data row3 col1\" >1</td>\n",
              "                        <td id=\"T_429b94b6_67e0_11ec_a6b7_0242ac1c0002row3_col2\" class=\"data row3 col2\" >12</td>\n",
              "            </tr>\n",
              "            <tr>\n",
              "                        <th id=\"T_429b94b6_67e0_11ec_a6b7_0242ac1c0002level0_row4\" class=\"row_heading level0 row4\" >4</th>\n",
              "                        <td id=\"T_429b94b6_67e0_11ec_a6b7_0242ac1c0002row4_col0\" class=\"data row4 col0\" >0</td>\n",
              "                        <td id=\"T_429b94b6_67e0_11ec_a6b7_0242ac1c0002row4_col1\" class=\"data row4 col1\" >0</td>\n",
              "                        <td id=\"T_429b94b6_67e0_11ec_a6b7_0242ac1c0002row4_col2\" class=\"data row4 col2\" >18</td>\n",
              "            </tr>\n",
              "            <tr>\n",
              "                        <th id=\"T_429b94b6_67e0_11ec_a6b7_0242ac1c0002level0_row5\" class=\"row_heading level0 row5\" >5</th>\n",
              "                        <td id=\"T_429b94b6_67e0_11ec_a6b7_0242ac1c0002row5_col0\" class=\"data row5 col0\" >0</td>\n",
              "                        <td id=\"T_429b94b6_67e0_11ec_a6b7_0242ac1c0002row5_col1\" class=\"data row5 col1\" >0</td>\n",
              "                        <td id=\"T_429b94b6_67e0_11ec_a6b7_0242ac1c0002row5_col2\" class=\"data row5 col2\" >5</td>\n",
              "            </tr>\n",
              "            <tr>\n",
              "                        <th id=\"T_429b94b6_67e0_11ec_a6b7_0242ac1c0002level0_row6\" class=\"row_heading level0 row6\" >8</th>\n",
              "                        <td id=\"T_429b94b6_67e0_11ec_a6b7_0242ac1c0002row6_col0\" class=\"data row6 col0\" >0</td>\n",
              "                        <td id=\"T_429b94b6_67e0_11ec_a6b7_0242ac1c0002row6_col1\" class=\"data row6 col1\" >0</td>\n",
              "                        <td id=\"T_429b94b6_67e0_11ec_a6b7_0242ac1c0002row6_col2\" class=\"data row6 col2\" >7</td>\n",
              "            </tr>\n",
              "    </tbody></table>"
            ],
            "text/plain": [
              "<pandas.io.formats.style.Styler at 0x7f8687615250>"
            ]
          },
          "metadata": {},
          "execution_count": 99
        }
      ]
    },
    {
      "cell_type": "markdown",
      "source": [
        "**논평:**  \n",
        "barplot과 factorplot은 나타냅니다. 만약 승객이 혼자 탑승했다면 형제자매 없이 그는 34.5%로 생존할 것입니다. 그래프는 심하게 감소합니다. 형제자매의 수가 증가할 수록. 이는 말이 됩니다. 만약 내가 가족과 같이 탑승했다면 내가 먼저 사는 대신에 그들을 살리려고 노력했을 것입니다. 놀랍게도 5-8의 가족이 있는 경우 생존률은 0%입니다.  \n",
        "이유는 Pclass 때문입니다. crosstab의 SibSp>3은 모두 Pclass3 이었습니다. Pclass의 모든 대가족(>3)이 사망할 것은 임박한 일이었습니다."
      ],
      "metadata": {
        "id": "PGN5DcnILqq7"
      }
    },
    {
      "cell_type": "markdown",
      "source": [
        "### Parch"
      ],
      "metadata": {
        "id": "sYiHXnA4NDT1"
      }
    },
    {
      "cell_type": "code",
      "source": [
        "pd.crosstab(data.Parch, data.Pclass).style.background_gradient(cmap='summer_r')"
      ],
      "metadata": {
        "colab": {
          "base_uri": "https://localhost:8080/",
          "height": 300
        },
        "id": "lFBuAkDYNFaT",
        "outputId": "75650e37-4fba-4ff2-c8ff-c45079ef3546"
      },
      "execution_count": 100,
      "outputs": [
        {
          "output_type": "execute_result",
          "data": {
            "text/html": [
              "<style  type=\"text/css\" >\n",
              "#T_30eb7e74_67e1_11ec_a6b7_0242ac1c0002row0_col0,#T_30eb7e74_67e1_11ec_a6b7_0242ac1c0002row0_col1,#T_30eb7e74_67e1_11ec_a6b7_0242ac1c0002row0_col2{\n",
              "            background-color:  #008066;\n",
              "            color:  #f1f1f1;\n",
              "        }#T_30eb7e74_67e1_11ec_a6b7_0242ac1c0002row1_col0{\n",
              "            background-color:  #cfe766;\n",
              "            color:  #000000;\n",
              "        }#T_30eb7e74_67e1_11ec_a6b7_0242ac1c0002row1_col1{\n",
              "            background-color:  #c2e066;\n",
              "            color:  #000000;\n",
              "        }#T_30eb7e74_67e1_11ec_a6b7_0242ac1c0002row1_col2{\n",
              "            background-color:  #dbed66;\n",
              "            color:  #000000;\n",
              "        }#T_30eb7e74_67e1_11ec_a6b7_0242ac1c0002row2_col0{\n",
              "            background-color:  #dfef66;\n",
              "            color:  #000000;\n",
              "        }#T_30eb7e74_67e1_11ec_a6b7_0242ac1c0002row2_col1{\n",
              "            background-color:  #e1f066;\n",
              "            color:  #000000;\n",
              "        }#T_30eb7e74_67e1_11ec_a6b7_0242ac1c0002row2_col2{\n",
              "            background-color:  #e3f166;\n",
              "            color:  #000000;\n",
              "        }#T_30eb7e74_67e1_11ec_a6b7_0242ac1c0002row3_col0,#T_30eb7e74_67e1_11ec_a6b7_0242ac1c0002row4_col1,#T_30eb7e74_67e1_11ec_a6b7_0242ac1c0002row5_col0,#T_30eb7e74_67e1_11ec_a6b7_0242ac1c0002row5_col1,#T_30eb7e74_67e1_11ec_a6b7_0242ac1c0002row6_col0,#T_30eb7e74_67e1_11ec_a6b7_0242ac1c0002row6_col1,#T_30eb7e74_67e1_11ec_a6b7_0242ac1c0002row6_col2{\n",
              "            background-color:  #ffff66;\n",
              "            color:  #000000;\n",
              "        }#T_30eb7e74_67e1_11ec_a6b7_0242ac1c0002row3_col1{\n",
              "            background-color:  #fcfe66;\n",
              "            color:  #000000;\n",
              "        }#T_30eb7e74_67e1_11ec_a6b7_0242ac1c0002row3_col2,#T_30eb7e74_67e1_11ec_a6b7_0242ac1c0002row4_col0,#T_30eb7e74_67e1_11ec_a6b7_0242ac1c0002row4_col2{\n",
              "            background-color:  #fefe66;\n",
              "            color:  #000000;\n",
              "        }#T_30eb7e74_67e1_11ec_a6b7_0242ac1c0002row5_col2{\n",
              "            background-color:  #fdfe66;\n",
              "            color:  #000000;\n",
              "        }</style><table id=\"T_30eb7e74_67e1_11ec_a6b7_0242ac1c0002\" class=\"dataframe\"><thead>    <tr>        <th class=\"index_name level0\" >Pclass</th>        <th class=\"col_heading level0 col0\" >1</th>        <th class=\"col_heading level0 col1\" >2</th>        <th class=\"col_heading level0 col2\" >3</th>    </tr>    <tr>        <th class=\"index_name level0\" >Parch</th>        <th class=\"blank\" ></th>        <th class=\"blank\" ></th>        <th class=\"blank\" ></th>    </tr></thead><tbody>\n",
              "                <tr>\n",
              "                        <th id=\"T_30eb7e74_67e1_11ec_a6b7_0242ac1c0002level0_row0\" class=\"row_heading level0 row0\" >0</th>\n",
              "                        <td id=\"T_30eb7e74_67e1_11ec_a6b7_0242ac1c0002row0_col0\" class=\"data row0 col0\" >163</td>\n",
              "                        <td id=\"T_30eb7e74_67e1_11ec_a6b7_0242ac1c0002row0_col1\" class=\"data row0 col1\" >134</td>\n",
              "                        <td id=\"T_30eb7e74_67e1_11ec_a6b7_0242ac1c0002row0_col2\" class=\"data row0 col2\" >381</td>\n",
              "            </tr>\n",
              "            <tr>\n",
              "                        <th id=\"T_30eb7e74_67e1_11ec_a6b7_0242ac1c0002level0_row1\" class=\"row_heading level0 row1\" >1</th>\n",
              "                        <td id=\"T_30eb7e74_67e1_11ec_a6b7_0242ac1c0002row1_col0\" class=\"data row1 col0\" >31</td>\n",
              "                        <td id=\"T_30eb7e74_67e1_11ec_a6b7_0242ac1c0002row1_col1\" class=\"data row1 col1\" >32</td>\n",
              "                        <td id=\"T_30eb7e74_67e1_11ec_a6b7_0242ac1c0002row1_col2\" class=\"data row1 col2\" >55</td>\n",
              "            </tr>\n",
              "            <tr>\n",
              "                        <th id=\"T_30eb7e74_67e1_11ec_a6b7_0242ac1c0002level0_row2\" class=\"row_heading level0 row2\" >2</th>\n",
              "                        <td id=\"T_30eb7e74_67e1_11ec_a6b7_0242ac1c0002row2_col0\" class=\"data row2 col0\" >21</td>\n",
              "                        <td id=\"T_30eb7e74_67e1_11ec_a6b7_0242ac1c0002row2_col1\" class=\"data row2 col1\" >16</td>\n",
              "                        <td id=\"T_30eb7e74_67e1_11ec_a6b7_0242ac1c0002row2_col2\" class=\"data row2 col2\" >43</td>\n",
              "            </tr>\n",
              "            <tr>\n",
              "                        <th id=\"T_30eb7e74_67e1_11ec_a6b7_0242ac1c0002level0_row3\" class=\"row_heading level0 row3\" >3</th>\n",
              "                        <td id=\"T_30eb7e74_67e1_11ec_a6b7_0242ac1c0002row3_col0\" class=\"data row3 col0\" >0</td>\n",
              "                        <td id=\"T_30eb7e74_67e1_11ec_a6b7_0242ac1c0002row3_col1\" class=\"data row3 col1\" >2</td>\n",
              "                        <td id=\"T_30eb7e74_67e1_11ec_a6b7_0242ac1c0002row3_col2\" class=\"data row3 col2\" >3</td>\n",
              "            </tr>\n",
              "            <tr>\n",
              "                        <th id=\"T_30eb7e74_67e1_11ec_a6b7_0242ac1c0002level0_row4\" class=\"row_heading level0 row4\" >4</th>\n",
              "                        <td id=\"T_30eb7e74_67e1_11ec_a6b7_0242ac1c0002row4_col0\" class=\"data row4 col0\" >1</td>\n",
              "                        <td id=\"T_30eb7e74_67e1_11ec_a6b7_0242ac1c0002row4_col1\" class=\"data row4 col1\" >0</td>\n",
              "                        <td id=\"T_30eb7e74_67e1_11ec_a6b7_0242ac1c0002row4_col2\" class=\"data row4 col2\" >3</td>\n",
              "            </tr>\n",
              "            <tr>\n",
              "                        <th id=\"T_30eb7e74_67e1_11ec_a6b7_0242ac1c0002level0_row5\" class=\"row_heading level0 row5\" >5</th>\n",
              "                        <td id=\"T_30eb7e74_67e1_11ec_a6b7_0242ac1c0002row5_col0\" class=\"data row5 col0\" >0</td>\n",
              "                        <td id=\"T_30eb7e74_67e1_11ec_a6b7_0242ac1c0002row5_col1\" class=\"data row5 col1\" >0</td>\n",
              "                        <td id=\"T_30eb7e74_67e1_11ec_a6b7_0242ac1c0002row5_col2\" class=\"data row5 col2\" >5</td>\n",
              "            </tr>\n",
              "            <tr>\n",
              "                        <th id=\"T_30eb7e74_67e1_11ec_a6b7_0242ac1c0002level0_row6\" class=\"row_heading level0 row6\" >6</th>\n",
              "                        <td id=\"T_30eb7e74_67e1_11ec_a6b7_0242ac1c0002row6_col0\" class=\"data row6 col0\" >0</td>\n",
              "                        <td id=\"T_30eb7e74_67e1_11ec_a6b7_0242ac1c0002row6_col1\" class=\"data row6 col1\" >0</td>\n",
              "                        <td id=\"T_30eb7e74_67e1_11ec_a6b7_0242ac1c0002row6_col2\" class=\"data row6 col2\" >1</td>\n",
              "            </tr>\n",
              "    </tbody></table>"
            ],
            "text/plain": [
              "<pandas.io.formats.style.Styler at 0x7f868745c4d0>"
            ]
          },
          "metadata": {},
          "execution_count": 100
        }
      ]
    },
    {
      "cell_type": "markdown",
      "source": [
        "크로스탭은 다시금 보여줍니다. 대가족은 Pclass3에서 탑승했다는 것을"
      ],
      "metadata": {
        "id": "UjlVqkNfNMMD"
      }
    },
    {
      "cell_type": "code",
      "source": [
        "f, ax = plt.subplots(1, 2, figsize=(20, 8))\n",
        "sns.barplot('Parch', 'Survived', data=data, ax=ax[0])\n",
        "ax[0].set_title('Parch vs Survived')\n",
        "\n",
        "sns.factorplot('Parch', 'Survived', data=data, ax=ax[1])\n",
        "ax[1].set_title('Parch vs Survived')\n",
        "\n",
        "plt.show()"
      ],
      "metadata": {
        "colab": {
          "base_uri": "https://localhost:8080/",
          "height": 685
        },
        "id": "OGSUXBT1NfgS",
        "outputId": "aa33c40f-ee74-4b5a-b1ef-32912ba6465d"
      },
      "execution_count": 101,
      "outputs": [
        {
          "output_type": "display_data",
          "data": {
            "image/png": "[encoded data removed]",
            "text/plain": [
              "<Figure size 1440x576 with 2 Axes>"
            ]
          },
          "metadata": {
            "needs_background": "light"
          }
        },
        {
          "output_type": "display_data",
          "data": {
            "image/png": "[encoded data removed]",
            "text/plain": [
              "<Figure size 360x360 with 1 Axes>"
            ]
          },
          "metadata": {
            "needs_background": "light"
          }
        }
      ]
    },
    {
      "cell_type": "markdown",
      "source": [
        "**논평:**  \n",
        "비슷한 결과가 나왔습니다. 부모님과 같이 탑승한 사람은 더욱 많은 생존률을 가집니다. 하지만 이는 구성원 수가 올라감에 따라 감소합니다.  \n",
        "생존률은 1-3 명의 부모님을 가진 사람이 좋습니다. 혼자라는 것은 치명적이라는 것이 드러났으며 4명 이상의 부모가 배에 있는 사람은 생존률이 감소합니다."
      ],
      "metadata": {
        "id": "H36cG0zIN2T9"
      }
    },
    {
      "cell_type": "markdown",
      "source": [
        "### Fare -> Continous Feature"
      ],
      "metadata": {
        "id": "sgRU4Qa5Opqz"
      }
    },
    {
      "cell_type": "code",
      "source": [
        "print('Highest Fare was:', data['Fare'].max())\n",
        "print('Lowest Fare was:', data['Fare'].min())\n",
        "print('Average Fare was:', data['Fare'].mean())"
      ],
      "metadata": {
        "colab": {
          "base_uri": "https://localhost:8080/"
        },
        "id": "R9ecJjPQOs_q",
        "outputId": "95a266f8-ccfc-496d-bd72-6eae7b24cc37"
      },
      "execution_count": 104,
      "outputs": [
        {
          "output_type": "stream",
          "name": "stdout",
          "text": [
            "Highest Fare was: 512.3292\n",
            "Lowest Fare was: 0.0\n",
            "Average Fare was: 32.2042079685746\n"
          ]
        }
      ]
    },
    {
      "cell_type": "code",
      "source": [
        "f, ax = plt.subplots(1, 3, figsize=(20, 8))\n",
        "sns.distplot(data[data['Pclass']==1].Fare, ax=ax[0])\n",
        "ax[0].set_title('Fares in Pclass 1')\n",
        "\n",
        "sns.distplot(data[data['Pclass']==2].Fare, ax=ax[1])\n",
        "ax[1].set_title('Fares in Pclass 2')\n",
        "\n",
        "sns.distplot(data[data['Pclass']==3].Fare, ax=ax[2])\n",
        "ax[2].set_title('Fares in Pclass 3')\n",
        "\n",
        "plt.show()"
      ],
      "metadata": {
        "colab": {
          "base_uri": "https://localhost:8080/",
          "height": 332
        },
        "id": "_fEekfm4O8CC",
        "outputId": "3f8a294b-0d1d-405b-a460-7b69268a8e66"
      },
      "execution_count": 105,
      "outputs": [
        {
          "output_type": "display_data",
          "data": {
            "image/png": "[encoded data removed]",
            "text/plain": [
              "<Figure size 1440x576 with 3 Axes>"
            ]
          },
          "metadata": {
            "needs_background": "light"
          }
        }
      ]
    },
    {
      "cell_type": "markdown",
      "source": [
        "Pclass1에는 매우 큰 요금 분포가 있는 것 같습니다. 그리고 이는 표준이 감소함에 따라 감소합니다?  \n",
        "이 또한 continous하기 때문에 binning을 이용해 이산값으로 전환할 수 있습니다."
      ],
      "metadata": {
        "id": "o2g0f29sPobJ"
      }
    },
    {
      "cell_type": "markdown",
      "source": [
        "### 모든 피처에 대한 중간 점검:  \n",
        "**Sex:** 남성과 비교했을 때 여성의 생존률이 더 높았다.  \n",
        "**Pclass:** 눈에 띄는 경향이 있습니다. 1st class의 승객은 생존률이 높았습니다. Pclass 3의 경우 생존률이 매우 낮았습니다. 여성의 경우 Pclass1의 생존률은 거의 1이었으며 Pclass2 또한 마찬가지로 높았습니다.  \n",
        "**Age:** 5-10살 정도의 아이들은 생존률이 높았습니다. 15-35살 정도 되는 나이대의 승객들이 매우 많이 사망했습니다.  \n",
        "**Embarked:** 매우 흥미로운 피처입니다. **C 항구의 생존 확률이 더욱 나은 것 같습니다. 대다수의 Pclass1 승객이 S에서 탔음에도.** Q 항구의 승객은 대부분 Pclass3 이었습니다.  \n",
        "**Parch + SibSp:** 1-2명의 배우자나 형제자매, 혹은 1-3명의 부모님과 같이 탑승했다면 비교적 좋은 생존 확률을 갖습니다. 하지만 혼자라거나 대가족이라면 이보다 못합니다."
      ],
      "metadata": {
        "id": "GWW0SWAKQmQZ"
      }
    },
    {
      "cell_type": "markdown",
      "source": [
        "### Correlation Between The Features"
      ],
      "metadata": {
        "id": "UHBXhXiaSI9s"
      }
    },
    {
      "cell_type": "code",
      "source": [
        "sns.heatmap(data.corr(), annot=True, cmap='RdYlGn', linewidths=0.2) # data.corr() -> correlation matrix\n",
        "fig=plt.gcf()\n",
        "fig.set_size_inches(10, 8)\n",
        "plt.show()"
      ],
      "metadata": {
        "colab": {
          "base_uri": "https://localhost:8080/",
          "height": 534
        },
        "id": "o4M9KozOSM9R",
        "outputId": "b66f160f-2914-450f-ccb5-b588096a2836"
      },
      "execution_count": 106,
      "outputs": [
        {
          "output_type": "display_data",
          "data": {
            "image/png": "[encoded data removed]",
            "text/plain": [
              "<Figure size 720x576 with 2 Axes>"
            ]
          },
          "metadata": {
            "needs_background": "light"
          }
        }
      ]
    },
    {
      "cell_type": "markdown",
      "source": [
        "**Heatmap에 대한 해석**  \n",
        "첫 번째로 알아두어야 할 사실은 오직 숫자로 된 피처들만 비교된다는 것입니다. 우리는 상관관계를 비교할 수 없습니다. 알파벳과 숫자들 간에는. plot을 이해하기 전에 상관관계가 무엇인지 먼저 알아야 합니다.  \n",
        "  \n",
        "**양의 상관관계:** feature A의 증가가 feature B의 증가를 이끌어 낸다면 이들은 양의 상관관계를 가지고 있습니다. A가 1을 가지고 있다면 완벽한 양의 상관관계임을 의미합니다.  \n",
        "  \n",
        "**음의 상관관계:** feature B의 감소가 feature B의 감소를 이끌어 낸다면 이들은 음의 상관관계를 가지고 있습니다. A가 -1을 가지고 있다면 완벽한 음의 상관관계임을 의미합니다."
      ],
      "metadata": {
        "id": "unXF_SqbSkNq"
      }
    },
    {
      "cell_type": "markdown",
      "source": [
        "두 피처가 매우 높이, 혹은 완벽한 상관관계를 가지고 있다고 할 때 하나의 증가는 다른 하나의 증가를 가져옵니다. 이는 두 피처가 매우 비슷한 정보를 가지고 있음을 의미하며 정보에 있어 분산이 매우 적거나 없다는 것입니다. 이는 **다중공선성(MultiColinearity)**으로 알려져 있으며, 앞의 두 피처는 거의 같은 정보를 가지고 있습니다.  \n",
        "  \n",
        "두 정보가 중복되는 상황에서 두 가지를 다 사용해야 한다고 생각하나요? 모델을 만들거나 훈련시킬 때에는 중복되는 것들을 제거해야 훈련 시간을 감소시킬 수 있는 등 많은 이점이 있습니다.  \n",
        "  \n",
        "이제 위의 히트맵에서 피처들 간에 상관관계가 많지 않다는 것을 발겨할 수 있습니다. **가장 높은 상관관계는 SibSp, Parch에서 0.41입니다.** 따라서 우리는 모든 피처를 사용할 수 있습니다."
      ],
      "metadata": {
        "id": "002j6NfMT5gy"
      }
    },
    {
      "cell_type": "markdown",
      "source": [
        "## Part2: Feature Engineering and Data Cleaning\n",
        "Feature가 포함된 데이터 셋을 받았다고 했을 때 모든 피처가 중요할 필요는 없습니다. 아마 중복되는 피처들이 있을텐데 이들은 제거돼야 합니다. 또한 새로운 피처를 추가할 수도 있습니다. 서로 다른 피처로부터 정보를 관찰하거나 추출해서  \n",
        "  \n",
        "예를 들자면 Name Feature를 사용해 Initials 피처를 만드는 것입니다. 새로운 피처를 만들거나 제거해야될 지 살펴보도록 하겠습니다. 또한 연관된 피처들을 변화시켜서 Predictive Modeling에 적합하게 만들겠습니다."
      ],
      "metadata": {
        "id": "lDtiZtMaVS4Q"
      }
    },
    {
      "cell_type": "code",
      "source": [
        ""
      ],
      "metadata": {
        "id": "1wqjqC0bWYfa"
      },
      "execution_count": null,
      "outputs": []
    }
  ]
}