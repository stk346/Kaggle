{
  "nbformat": 4,
  "nbformat_minor": 0,
  "metadata": {
    "colab": {
      "name": "A Complete Introduction and Walkthrough.ipynb",
      "provenance": []
    },
    "kernelspec": {
      "name": "python3",
      "display_name": "Python 3"
    },
    "language_info": {
      "name": "python"
    }
  },
  "cells": [
    {
      "cell_type": "markdown",
      "source": [
        "다음의 캐글 노트북을 필사했습니다.  \n",
        "https://www.kaggle.com/willkoehrsen/a-complete-introduction-and-walkthrough/data"
      ],
      "metadata": {
        "id": "nC7I0APwAqQf"
      }
    },
    {
      "cell_type": "markdown",
      "source": [
        "# Data"
      ],
      "metadata": {
        "id": "CTgIArQKAurw"
      }
    },
    {
      "cell_type": "markdown",
      "source": [
        "## File descriptions"
      ],
      "metadata": {
        "id": "zj26GTg-AxkJ"
      }
    },
    {
      "cell_type": "markdown",
      "source": [
        "* train | test.csv  \n",
        "  * 이것은 메인 테이블이며 Train, Test 의 두 파일로 쪼개져 있습니다.  \n",
        "  * 하나의 행은 데이터 샘플에 있어 한 사람을 나타냅니다.  \n",
        "  * 여러 사람이 하나의 가정의 일부가 될 수 있습니다."
      ],
      "metadata": {
        "id": "MbkoLBTgAz5A"
      }
    },
    {
      "cell_type": "markdown",
      "source": [
        "* sample_submission.csv - 올바른 형식의 샘플 제출 파일입니다.  \n",
        "  * 이 파일은 모든 test ID와 기본 설정된 값을 포함합니다.  \n",
        "  * 오직 households의 heads 만이 scoriing에 사용된다는 점을 기억하세요. 모든 가정의 멤버는  test + sample submiission에 포함되지만 오직 가정의 세대주만 채점됩니다."
      ],
      "metadata": {
        "id": "soo5qQnfBSzS"
      }
    },
    {
      "cell_type": "markdown",
      "source": [
        "## Core Data fields"
      ],
      "metadata": {
        "id": "cLpB9kx9CZCh"
      }
    },
    {
      "cell_type": "markdown",
      "source": [
        "* id - 각 행에 대한 유일한 식별자  \n",
        "* Target - 타겟은 서수(순서가 있는) 변수이며 소득 수준의 그룹을 나타냅니다.  \n",
        "  * 1 = 매우 가난함\n",
        "  * 2 = 중간 정도로 가난함\n",
        "  * 3 = 취약한 가구  \n",
        "  * 4 = 취약하지 않은 가구\n",
        "* idhogar - 이는 각 가정에 대해 유일한 식별자입니다. 이는 가정에 걸친 feature 등을  생성하는데 쓰일 수 있습니다. 주어진 household의 모든 행은 이 identifier과 matching 되는 값을 가질 것입니다.  \n",
        "* parentesco1 - 이 사람이 세대주인지 나타냅니다.  \n",
        "* 이 데이터는 총 142 개의 컬럼을 포함합니다."
      ],
      "metadata": {
        "id": "p-I1q3trCgHZ"
      }
    },
    {
      "cell_type": "markdown",
      "source": [
        "# All Data fields"
      ],
      "metadata": {
        "id": "jtwZFTliJGCk"
      }
    },
    {
      "cell_type": "markdown",
      "source": [
        "변수 이름, 변수 설명"
      ],
      "metadata": {
        "id": "df5VklbmJKMa"
      }
    },
    {
      "cell_type": "code",
      "source": [
        "text = \"\"\"\n",
        "v2a1, Monthly rent payment\n",
        "hacdor, =1 Overcrowding by bedrooms\n",
        "rooms,\n",
        "number of all rooms in the house\n",
        "hacapo, =1 Overcrowding by rooms\n",
        "v14a, =1 has bathroom in the household\n",
        "refrig, =1 if the household has refrigerator\n",
        "v18q, owns a tablet\n",
        "v18q1, number of tablets household owns \n",
        "r4h1, Males younger than 12 years of age\n",
        "r4h2, Males 12 years of age and older\n",
        "r4h3, Total males in the household\n",
        "r4m1, Females younger than 12 years of age\n",
        "r4m2, Females 12 years of age and older\n",
        "r4m3, Total females in the household\n",
        "r4t1, persons younger than 12 years of age\n",
        "r4t2, persons 12 years of age and older\n",
        "r4t3, Total persons in the household\n",
        "tamhog, size of the household\n",
        "tamviv, number of persons living in the household\n",
        "escolari, years of schooling\n",
        "rez_esc, Years behind in school\n",
        "hhsize, household size\n",
        "paredblolad, =1 if predominant material on the outside wall is block or brick\n",
        "paredzocalo, \"=1 if predominant material on the outside wall is socket (wood,  zinc or absbesto\"\n",
        "paredpreb, =1 if predominant material on the outside wall is prefabricated or cement\n",
        "pareddes, =1 if predominant material on the outside wall is waste material\n",
        "paredmad, =1 if predominant material on the outside wall is wood\n",
        "paredzinc, =1 if predominant material on the outside wall is zink\n",
        "paredfibras, =1 if predominant material on the outside wall is natural fibers\n",
        "paredother, =1 if predominant material on the outside wall is other\n",
        "pisomoscer, \"=1 if predominant material on the floor is mosaic,  ceramic,  terrazo\"\n",
        "pisocemento, =1 if predominant material on the floor is cement\n",
        "pisoother, =1 if predominant material on the floor is other\n",
        "pisonatur, =1 if predominant material on the floor is  natural material\n",
        "pisonotiene, =1 if no floor at the household\n",
        "pisomadera, =1 if predominant material on the floor is wood\n",
        "techozinc, =1 if predominant material on the roof is metal foil or zink\n",
        "techoentrepiso, \"=1 if predominant material on the roof is fiber cement,  mezzanine \"\n",
        "techocane, =1 if predominant material on the roof is natural fibers\n",
        "techootro, =1 if predominant material on the roof is other\n",
        "cielorazo, =1 if the house has ceiling\n",
        "abastaguadentro, =1 if water provision inside the dwelling\n",
        "abastaguafuera, =1 if water provision outside the dwelling\n",
        "abastaguano, =1 if no water provision\n",
        "public, \"=1 electricity from CNFL,  ICE,  ESPH/JASEC\"\n",
        "planpri, =1 electricity from private plant\n",
        "noelec, =1 no electricity in the dwelling\n",
        "coopele, =1 electricity from cooperative\n",
        "sanitario1, =1 no toilet in the dwelling\n",
        "sanitario2, =1 toilet connected to sewer or cesspool\n",
        "sanitario3, =1 toilet connected to  septic tank\n",
        "sanitario5, =1 toilet connected to black hole or letrine\n",
        "sanitario6, =1 toilet connected to other system\n",
        "energcocinar1, =1 no main source of energy used for cooking (no kitchen)\n",
        "energcocinar2, =1 main source of energy used for cooking electricity\n",
        "energcocinar3, =1 main source of energy used for cooking gas\n",
        "energcocinar4, =1 main source of energy used for cooking wood charcoal\n",
        "elimbasu1, =1 if rubbish disposal mainly by tanker truck\n",
        "elimbasu2, =1 if rubbish disposal mainly by botan hollow or buried\n",
        "elimbasu3, =1 if rubbish disposal mainly by burning\n",
        "elimbasu4, =1 if rubbish disposal mainly by throwing in an unoccupied space\n",
        "elimbasu5, \"=1 if rubbish disposal mainly by throwing in river,  creek or sea\"\n",
        "elimbasu6, =1 if rubbish disposal mainly other\n",
        "epared1, =1 if walls are bad\n",
        "epared2, =1 if walls are regular\n",
        "epared3, =1 if walls are good\n",
        "etecho1, =1 if roof are bad\n",
        "etecho2, =1 if roof are regular\n",
        "etecho3, =1 if roof are good\n",
        "eviv1, =1 if floor are bad\n",
        "eviv2, =1 if floor are regular\n",
        "eviv3, =1 if floor are good\n",
        "dis, =1 if disable person\n",
        "male, =1 if male\n",
        "female, =1 if female\n",
        "estadocivil1, =1 if less than 10 years old\n",
        "estadocivil2, =1 if free or coupled uunion\n",
        "estadocivil3, =1 if married\n",
        "estadocivil4, =1 if divorced\n",
        "estadocivil5, =1 if separated\n",
        "estadocivil6, =1 if widow/er\n",
        "estadocivil7, =1 if single\n",
        "parentesco1, =1 if household head\n",
        "parentesco2, =1 if spouse/partner\n",
        "parentesco3, =1 if son/doughter\n",
        "parentesco4, =1 if stepson/doughter\n",
        "parentesco5, =1 if son/doughter in law\n",
        "parentesco6, =1 if grandson/doughter\n",
        "parentesco7, =1 if mother/father\n",
        "parentesco8, =1 if father/mother in law\n",
        "parentesco9, =1 if brother/sister\n",
        "parentesco10, =1 if brother/sister in law\n",
        "parentesco11, =1 if other family member\n",
        "parentesco12, =1 if other non family member\n",
        "idhogar, Household level identifier\n",
        "hogar_nin, Number of children 0 to 19 in household\n",
        "hogar_adul, Number of adults in household\n",
        "hogar_mayor, # of individuals 65+ in the household\n",
        "hogar_total, # of total individuals in the household\n",
        "dependency, Dependency rate, calculated = (number of members of the household younger than 19 or older than 64)/(number of member of household between 19 and 64)\n",
        "edjefe, years of education of male head of household, based on the interaction of escolari (years of education), head of household and gender, yes=1 and no=0\n",
        "edjefa, years of education of female head of household, based on the interaction of escolari (years of education), head of household and gender, yes=1 and no=0\n",
        "meaneduc,average years of education for adults (18+)\n",
        "instlevel1, =1 no level of education\n",
        "instlevel2, =1 incomplete primary\n",
        "instlevel3, =1 complete primary\n",
        "instlevel4, =1 incomplete academic secondary level\n",
        "instlevel5, =1 complete academic secondary level\n",
        "instlevel6, =1 incomplete technical secondary level\n",
        "instlevel7, =1 complete technical secondary level\n",
        "instlevel8, =1 undergraduate and higher education\n",
        "instlevel9, =1 postgraduate higher education\n",
        "bedrooms, number of bedrooms\n",
        "overcrowding, # persons per room\n",
        "tipovivi1, =1 own and fully paid house\n",
        "tipovivi2, \"=1 own,  paying in installments\"\n",
        "tipovivi3, =1 rented\n",
        "tipovivi4, =1 precarious\n",
        "tipovivi5, \"=1 other(assigned,  borrowed)\"\n",
        "computer, =1 if the household has notebook or desktop computer\n",
        "television, =1 if the household has TV\n",
        "mobilephone, =1 if mobile phone\n",
        "qmobilephone, # of mobile phones\n",
        "lugar1, =1 region Central\n",
        "lugar2, =1 region Chorotega\n",
        "lugar3, =1 region PacÃƒÂ­fico central\n",
        "lugar4, =1 region Brunca\n",
        "lugar5, =1 region Huetar AtlÃƒÂ¡ntica\n",
        "lugar6, =1 region Huetar Norte\n",
        "area1, =1 zona urbana\n",
        "area2, =2 zona rural\n",
        "age, Age in years\n",
        "SQBescolari, escolari squared\n",
        "SQBage, age squared\n",
        "SQBhogar_total, hogar_total squared\n",
        "SQBedjefe, edjefe squared\n",
        "SQBhogar_nin, hogar_nin squared\n",
        "SQBovercrowding, overcrowding squared\n",
        "SQBdependency, dependency squared\n",
        "SQBmeaned, square of the mean years of education of adults (>=18) in the household\n",
        "agesq, Age squared\n",
        "\"\"\""
      ],
      "metadata": {
        "id": "DCivRwQ6EqvS"
      },
      "execution_count": 34,
      "outputs": []
    },
    {
      "cell_type": "code",
      "source": [
        "import re\n",
        "\n",
        "text = re.sub(r'[\\n]', '<br/>' , text)"
      ],
      "metadata": {
        "id": "nmiWOcX_GZhB"
      },
      "execution_count": 38,
      "outputs": []
    },
    {
      "cell_type": "markdown",
      "source": [
        "v2a1, Monthly rent payment<br/>hacdor, =1 Overcrowding by bedrooms<br/>rooms,<br/>number of all rooms in the house<br/>hacapo, =1 Overcrowding by rooms<br/>v14a, =1 has bathroom in the household<br/>refrig, =1 if the household has refrigerator<br/>v18q, owns a tablet<br/>v18q1, number of tablets household owns <br/>r4h1, Males younger than 12 years of age<br/>r4h2, Males 12 years of age and older<br/>r4h3, Total males in the household<br/>r4m1, Females younger than 12 years of age<br/>r4m2, Females 12 years of age and older<br/>r4m3, Total females in the household<br/>r4t1, persons younger than 12 years of age<br/>r4t2, persons 12 years of age and older<br/>r4t3, Total persons in the household<br/>tamhog, size of the household<br/>tamviv, number of persons living in the household<br/>escolari, years of schooling<br/>rez_esc, Years behind in school<br/>hhsize, household size<br/>paredblolad, =1 if predominant material on the outside wall is block or brick<br/>paredzocalo, \"=1 if predominant material on the outside wall is socket (wood,  zinc or absbesto\"<br/>paredpreb, =1 if predominant material on the outside wall is prefabricated or cement<br/>pareddes, =1 if predominant material on the outside wall is waste material<br/>paredmad, =1 if predominant material on the outside wall is wood<br/>paredzinc, =1 if predominant material on the outside wall is zink<br/>paredfibras, =1 if predominant material on the outside wall is natural fibers<br/>paredother, =1 if predominant material on the outside wall is other<br/>pisomoscer, \"=1 if predominant material on the floor is mosaic,  ceramic,  terrazo\"<br/>pisocemento, =1 if predominant material on the floor is cement<br/>pisoother, =1 if predominant material on the floor is other<br/>pisonatur, =1 if predominant material on the floor is  natural material<br/>pisonotiene, =1 if no floor at the household<br/>pisomadera, =1 if predominant material on the floor is wood<br/>techozinc, =1 if predominant material on the roof is metal foil or zink<br/>techoentrepiso, \"=1 if predominant material on the roof is fiber cement,  mezzanine \"<br/>techocane, =1 if predominant material on the roof is natural fibers<br/>techootro, =1 if predominant material on the roof is other<br/>cielorazo, =1 if the house has ceiling<br/>abastaguadentro, =1 if water provision inside the dwelling<br/>abastaguafuera, =1 if water provision outside the dwelling<br/>abastaguano, =1 if no water provision<br/>public, \"=1 electricity from CNFL,  ICE,  ESPH/JASEC\"<br/>planpri, =1 electricity from private plant<br/>noelec, =1 no electricity in the dwelling<br/>coopele, =1 electricity from cooperative<br/>sanitario1, =1 no toilet in the dwelling<br/>sanitario2, =1 toilet connected to sewer or cesspool<br/>sanitario3, =1 toilet connected to  septic tank<br/>sanitario5, =1 toilet connected to black hole or letrine<br/>sanitario6, =1 toilet connected to other system<br/>energcocinar1, =1 no main source of energy used for cooking (no kitchen)<br/>energcocinar2, =1 main source of energy used for cooking electricity<br/>energcocinar3, =1 main source of energy used for cooking gas<br/>energcocinar4, =1 main source of energy used for cooking wood charcoal<br/>elimbasu1, =1 if rubbish disposal mainly by tanker truck<br/>elimbasu2, =1 if rubbish disposal mainly by botan hollow or buried<br/>elimbasu3, =1 if rubbish disposal mainly by burning<br/>elimbasu4, =1 if rubbish disposal mainly by throwing in an unoccupied space<br/>elimbasu5, \"=1 if rubbish disposal mainly by throwing in river,  creek or sea\"<br/>elimbasu6, =1 if rubbish disposal mainly other<br/>epared1, =1 if walls are bad<br/>epared2, =1 if walls are regular<br/>epared3, =1 if walls are good<br/>etecho1, =1 if roof are bad<br/>etecho2, =1 if roof are regular<br/>etecho3, =1 if roof are good<br/>eviv1, =1 if floor are bad<br/>eviv2, =1 if floor are regular<br/>eviv3, =1 if floor are good<br/>dis, =1 if disable person<br/>male, =1 if male<br/>female, =1 if female<br/>estadocivil1, =1 if less than 10 years old<br/>estadocivil2, =1 if free or coupled uunion<br/>estadocivil3, =1 if married<br/>estadocivil4, =1 if divorced<br/>estadocivil5, =1 if separated<br/>estadocivil6, =1 if widow/er<br/>estadocivil7, =1 if single<br/>parentesco1, =1 if household head<br/>parentesco2, =1 if spouse/partner<br/>parentesco3, =1 if son/doughter<br/>parentesco4, =1 if stepson/doughter<br/>parentesco5, =1 if son/doughter in law<br/>parentesco6, =1 if grandson/doughter<br/>parentesco7, =1 if mother/father<br/>parentesco8, =1 if father/mother in law<br/>parentesco9, =1 if brother/sister<br/>parentesco10, =1 if brother/sister in law<br/>parentesco11, =1 if other family member<br/>parentesco12, =1 if other non family member<br/>idhogar, Household level identifier<br/>hogar_nin, Number of children 0 to 19 in household<br/>hogar_adul, Number of adults in household<br/>hogar_mayor, # of individuals 65+ in the household<br/>hogar_total, # of total individuals in the household<br/>dependency, Dependency rate, calculated = (number of members of the household younger than 19 or older than 64)/(number of member of household between 19 and 64)<br/>edjefe, years of education of male head of household, based on the interaction of escolari (years of education), head of household and gender, yes=1 and no=0<br/>edjefa, years of education of female head of household, based on the interaction of escolari (years of education), head of household and gender, yes=1 and no=0<br/>meaneduc,average years of education for adults (18+)<br/>instlevel1, =1 no level of education<br/>instlevel2, =1 incomplete primary<br/>instlevel3, =1 complete primary<br/>instlevel4, =1 incomplete academic secondary level<br/>instlevel5, =1 complete academic secondary level<br/>instlevel6, =1 incomplete technical secondary level<br/>instlevel7, =1 complete technical secondary level<br/>instlevel8, =1 undergraduate and higher education<br/>instlevel9, =1 postgraduate higher education<br/>bedrooms, number of bedrooms<br/>overcrowding, # persons per room<br/>tipovivi1, =1 own and fully paid house<br/>tipovivi2, \"=1 own,  paying in installments\"<br/>tipovivi3, =1 rented<br/>tipovivi4, =1 precarious<br/>tipovivi5, \"=1 other(assigned,  borrowed)\"<br/>computer, =1 if the household has notebook or desktop computer<br/>television, =1 if the household has TV<br/>mobilephone, =1 if mobile phone<br/>qmobilephone, # of mobile phones<br/>lugar1, =1 region Central<br/>lugar2, =1 region Chorotega<br/>lugar3, =1 region PacÃƒÂ\\xadfico central<br/>lugar4, =1 region Brunca<br/>lugar5, =1 region Huetar AtlÃƒÂ¡ntica<br/>lugar6, =1 region Huetar Norte<br/>area1, =1 zona urbana<br/>area2, =2 zona rural<br/>age, Age in years<br/>SQBescolari, escolari squared<br/>SQBage, age squared<br/>SQBhogar_total, hogar_total squared<br/>SQBedjefe, edjefe squared<br/>SQBhogar_nin, hogar_nin squared<br/>SQBovercrowding, overcrowding squared<br/>SQBdependency, dependency squared<br/>SQBmeaned, square of the mean years of education of adults (>=18) in the household<br/>agesq, Age squared"
      ],
      "metadata": {
        "id": "ImivU8RbHzzE"
      }
    },
    {
      "cell_type": "markdown",
      "source": [
        "# Costa Rican Household Poverty Level Prediction"
      ],
      "metadata": {
        "id": "RYTO3AtBIN-U"
      }
    },
    {
      "cell_type": "markdown",
      "source": [
        "Costa Rican Household Poverty Level Prediction 대회의 목적은 머신러닝 모델을 발전시키는 것인데, 그건 개인과 가구의 특성 모두를 활용해 가정의 가난 수준을 예측하는 것입니다. 이 프로젝트는 사람들이 광고를 클릭하게 하는 것 보다 사회적으로 더욱 이득이 되는 과제에 우리의 스킬을 넣을 수 있는 기회를 제공합니다."
      ],
      "metadata": {
        "id": "FBU6vXX8Jg5b"
      }
    },
    {
      "cell_type": "markdown",
      "source": [
        "이 노트북에서, 완전한 머신러닝 솔루션에 대해 설명할 것입니다. 첫번째로 문제에 대해서 소개한 이후 데이터 셋에 대해서 철저한 탐색적 데이터 분석을 수행하고, 피처 엔지니어링을 할 것이며 여러 개의 머신러닝 모델을 시도하고, 모델을 선택하고 최적화하며 마지막으로 모델의 아웃풋을 점검해 결과를 이끌어낼 것입니다. "
      ],
      "metadata": {
        "id": "mdMTQXUQLMWL"
      }
    },
    {
      "cell_type": "markdown",
      "source": [
        "This is a supervised multi-class classification machine learning problem:  \n",
        "  \n",
        "Supervised: provided with the labels for the training data  \n",
        "Multi-class classification: Labels are discrete values with 4 classes"
      ],
      "metadata": {
        "id": "s52tlrHHOj3L"
      }
    },
    {
      "cell_type": "markdown",
      "source": [
        "**중요 참고 사항: 모든 가구 구성원이 교육 데이터에서 동일한 레이블을 가져야 하지만 동일한 가정의 개인이 다른 레이블을 갖는 오류가 있습니다. 이러한 경우, 우리는 각 가구의 가장에 대한 레이블을 사용하라는 지시를 받았으며, 이는 parentesco1 == 1.0인 행으로 식별할 수 있습니다.**"
      ],
      "metadata": {
        "id": "EO5SlDF7Ok5b"
      }
    },
    {
      "cell_type": "markdown",
      "source": [
        "모델을 만들 때 우리는 household를 훈련합니다. 각각의 가정(세대주의 가난의 수준)에 대한 레이블에 기초를 두고. raw data는 가정과 개인에 대한 특성과 개인에 대한 데이터를 포함하기 때문에 각각의 가구에 대해 집계할 방법을 찾아야 합니다. 가구에 속한 일부 개인은 세대주가 없을 수 있는데 이는 불행히도 이러한 데이터를 트레이닝에 쓸 수 없다는 것을 의미합니다. 데이터와 관련한 이러한 이슈는 완전히 **real-world** 데이터의 전형이며 그러므로 이러한 문제는 당신이 데이터 사이언스 업무에서 마주치게 될 데이터셋에 대한 훌륭한 준비입니다."
      ],
      "metadata": {
        "id": "L2yhKspfPZOU"
      }
    },
    {
      "cell_type": "markdown",
      "source": [
        "## Metric"
      ],
      "metadata": {
        "id": "g0S9U6PgSNp-"
      }
    },
    {
      "cell_type": "markdown",
      "source": [
        "궁극적으로 우리는 가구의 가난 수준을 정수로 예측할 수 있는 머신러닝 모델을 만들길 원합니다. 우리의 예측은 **Macro F1 Score**로 평가될 것입니다. 아마 당신은 binary classification 문제의 standard F1 score에 익숙할 것입니다. 이는 precision과 recall에 대한 조화평균입니다."
      ],
      "metadata": {
        "id": "hJsF3xwASSiU"
      }
    },
    {
      "cell_type": "markdown",
      "source": [
        "$F_1$ = $\\frac{2}{\\frac{1}{recall}+\\frac{1}{precision}}$ = 2*$\\frac{precision * recall}{precision + recall}$"
      ],
      "metadata": {
        "id": "z6NfiYPQUM5T"
      }
    },
    {
      "cell_type": "markdown",
      "source": [
        "multi-class 문제에 있어서는 각각의 calss에 대해 F1스코어를 평균해야 합니다. macro F1 score은 각각의 클래스에 대해 F1스코어를 평균한 것입니다. 레이블의 불균형을 고려하지 않고"
      ],
      "metadata": {
        "id": "wG-Zz8-AUOgs"
      }
    },
    {
      "cell_type": "markdown",
      "source": [
        "$Macro F1 = \\frac{F1 Class 1 + F1 Class 2 + F1 Class 3 + F1 Class 4}{4}$"
      ],
      "metadata": {
        "id": "4h7mlZIdVeD8"
      }
    },
    {
      "cell_type": "code",
      "source": [
        ""
      ],
      "metadata": {
        "id": "QkmhOFntVnzK"
      },
      "execution_count": null,
      "outputs": []
    }
  ]
}